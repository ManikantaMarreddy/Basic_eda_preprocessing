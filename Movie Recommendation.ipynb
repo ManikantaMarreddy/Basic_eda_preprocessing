{
 "metadata": {
  "language_info": {
   "codemirror_mode": {
    "name": "ipython",
    "version": 3
   },
   "file_extension": ".py",
   "mimetype": "text/x-python",
   "name": "python",
   "nbconvert_exporter": "python",
   "pygments_lexer": "ipython3",
   "version": "3.9.2-final"
  },
  "orig_nbformat": 2,
  "kernelspec": {
   "name": "python3",
   "display_name": "Python 3.9.2 64-bit",
   "metadata": {
    "interpreter": {
     "hash": "c4d5cd7b0c70924ca48f040df1c3a4a7369857f1d4e95216826e28378c0ac00e"
    }
   }
  }
 },
 "nbformat": 4,
 "nbformat_minor": 2,
 "cells": [
  {
   "cell_type": "code",
   "execution_count": 1,
   "metadata": {},
   "outputs": [
    {
     "output_type": "execute_result",
     "data": {
      "text/plain": [
       "22"
      ]
     },
     "metadata": {},
     "execution_count": 1
    }
   ],
   "source": [
    "import pandas as pd\n",
    "\n",
    "# import Dataset \n",
    "anime = pd.read_csv(\"E:/360_codes and materials/others doc/Recommender Dataset/anime.csv\", encoding = 'utf8')\n",
    "anime.shape # shape\n",
    "anime.columns\n",
    "anime.genre # genre columns\n",
    "\n",
    "from sklearn.feature_extraction.text import TfidfVectorizer #term frequencey- inverse document frequncy is a numerical statistic that is intended to reflect how important a word is to document in a collecion or corpus\n",
    "\n",
    "# Creating a Tfidf Vectorizer to remove all stop words\n",
    "tfidf = TfidfVectorizer(stop_words = \"english\")    # taking stop words from tfid vectorizer \n",
    "\n",
    "# replacing the NaN values in overview column with empty string\n",
    "anime[\"genre\"].isnull().sum() \n",
    "anime[\"genre\"] = anime[\"genre\"].fillna(\" \")\n",
    "\n",
    "# Preparing the Tfidf matrix by fitting and transforming\n",
    "tfidf_matrix = tfidf.fit_transform(anime.genre)   #Transform a count matrix to a normalized tf or tf-idf representation\n",
    "tfidf_matrix.shape #12294, 46\n",
    "\n",
    "# with the above matrix we need to find the similarity score\n",
    "# There are several metrics for this such as the euclidean, \n",
    "# the Pearson and the cosine similarity scores\n",
    "\n",
    "# For now we will be using cosine similarity matrix\n",
    "# A numeric quantity to represent the similarity between 2 movies \n",
    "# Cosine similarity - metric is independent of magnitude and easy to calculate \n",
    "\n",
    "# cosine(x,y)= (x.y⊺)/(||x||.||y||)\n",
    "\n",
    "from sklearn.metrics.pairwise import linear_kernel\n",
    "\n",
    "# Computing the cosine similarity on Tfidf matrix\n",
    "cosine_sim_matrix = linear_kernel(tfidf_matrix, tfidf_matrix)\n",
    "\n",
    "# creating a mapping of anime name to index number \n",
    "anime_index = pd.Series(anime.index, index = anime['name']).drop_duplicates()\n",
    "\n",
    "anime_id = anime_index[\"Assassins (1995)\"]\n",
    "anime_id\n"
   ]
  },
  {
   "cell_type": "code",
   "execution_count": 2,
   "metadata": {},
   "outputs": [
    {
     "output_type": "stream",
     "name": "stdout",
     "text": [
      "    index                                               name     Score\n0     118                                    Bad Boys (1995)  1.000000\n1   10919                              No Game No Life Movie  1.000000\n2   10436  Super Real Mahjong: Mahjong Battle Scramble - ...  0.859206\n3    4290                       Raising Victor Vargas (2002)  0.827579\n4    5882                     xXx: State of the Union (2005)  0.800258\n5    5968           Pusher II: With Blood on My Hands (2004)  0.800258\n6    6116                                  Revolution (1985)  0.800258\n7    6677             World on a Wire (Welt am Draht) (1973)  0.800258\n8   10435  Super Real Mahjong: Kasumi Miki Shouko no Haji...  0.800258\n9    4628                            Italian Job, The (1969)  0.787476\n10   6812                    Midnight Meat Train, The (2008)  0.739464\n"
     ]
    },
    {
     "output_type": "execute_result",
     "data": {
      "text/plain": [
       "118"
      ]
     },
     "metadata": {},
     "execution_count": 2
    }
   ],
   "source": [
    "def get_recommendations(Name, topN):    \n",
    "    # topN = 10\n",
    "    # Getting the movie index using its title \n",
    "    anime_id = anime_index[Name]\n",
    "    \n",
    "    # Getting the pair wise similarity score for all the anime's with that \n",
    "    # anime\n",
    "    cosine_scores = list(enumerate(cosine_sim_matrix[anime_id]))\n",
    "    \n",
    "    # Sorting the cosine_similarity scores based on scores \n",
    "    cosine_scores = sorted(cosine_scores, key=lambda x:x[1], reverse = True)\n",
    "    \n",
    "    # Get the scores of top N most similar movies \n",
    "    cosine_scores_N = cosine_scores[0: topN+1]\n",
    "    \n",
    "    # Getting the movie index \n",
    "    anime_idx  =  [i[0] for i in cosine_scores_N]\n",
    "    anime_scores =  [i[1] for i in cosine_scores_N]\n",
    "    \n",
    "    # Similar movies and scores\n",
    "    anime_similar_show = pd.DataFrame(columns=[\"name\", \"Score\"])\n",
    "    anime_similar_show[\"name\"] = anime.loc[anime_idx, \"name\"]\n",
    "    anime_similar_show[\"Score\"] = anime_scores\n",
    "    anime_similar_show.reset_index(inplace = True)  \n",
    "    # anime_similar_show.drop([\"index\"], axis=1, inplace=True)\n",
    "    print (anime_similar_show)\n",
    "    # return (anime_similar_show)\n",
    "\n",
    "    \n",
    "# Enter your anime and number of anime's to be recommended \n",
    "get_recommendations(\"Bad Boys (1995)\", topN = 10)\n",
    "anime_index[\"Bad Boys (1995)\"]\n"
   ]
  },
  {
   "cell_type": "code",
   "execution_count": null,
   "metadata": {},
   "outputs": [],
   "source": []
  }
 ]
}