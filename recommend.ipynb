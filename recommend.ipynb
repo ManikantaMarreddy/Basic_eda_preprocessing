{
 "metadata": {
  "language_info": {
   "codemirror_mode": {
    "name": "ipython",
    "version": 3
   },
   "file_extension": ".py",
   "mimetype": "text/x-python",
   "name": "python",
   "nbconvert_exporter": "python",
   "pygments_lexer": "ipython3",
   "version": "3.9.2-final"
  },
  "orig_nbformat": 2,
  "kernelspec": {
   "name": "python3",
   "display_name": "Python 3.9.2 64-bit",
   "metadata": {
    "interpreter": {
     "hash": "c4d5cd7b0c70924ca48f040df1c3a4a7369857f1d4e95216826e28378c0ac00e"
    }
   }
  }
 },
 "nbformat": 4,
 "nbformat_minor": 2,
 "cells": [
  {
   "cell_type": "code",
   "execution_count": 64,
   "metadata": {},
   "outputs": [],
   "source": [
    "import pandas as pd \n",
    "import numpy as np "
   ]
  },
  {
   "cell_type": "code",
   "execution_count": 65,
   "metadata": {},
   "outputs": [
    {
     "output_type": "execute_result",
     "data": {
      "text/plain": [
       "0                 Drama, Romance, School, Supernatural\n",
       "1    Action, Adventure, Drama, Fantasy, Magic, Mili...\n",
       "2    Action, Comedy, Historical, Parody, Samurai, S...\n",
       "3                                     Sci-Fi, Thriller\n",
       "4    Action, Comedy, Historical, Parody, Samurai, S...\n",
       "Name: genre, dtype: object"
      ]
     },
     "metadata": {},
     "execution_count": 65
    }
   ],
   "source": [
    "data = pd.read_csv(\"E:/360_codes and materials/others doc/Recommender Dataset/anime.csv\")\n",
    "data.head()\n",
    "data.shape\n",
    "data.columns\n",
    "data.genre.head()"
   ]
  },
  {
   "cell_type": "code",
   "execution_count": 67,
   "metadata": {},
   "outputs": [],
   "source": [
    "from sklearn.feature_extraction.text import TfidfVectorizer\n",
    "tfidf = TfidfVectorizer(stop_words='english')\n",
    "data['genre'].isnull().sum()\n",
    "data['genre']= data['genre'].fillna(' ')\n"
   ]
  },
  {
   "cell_type": "code",
   "execution_count": 68,
   "metadata": {},
   "outputs": [
    {
     "output_type": "execute_result",
     "data": {
      "text/plain": [
       "(12294, 46)"
      ]
     },
     "metadata": {},
     "execution_count": 68
    }
   ],
   "source": [
    "tfidf_matrix = tfidf.fit_transform(data.genre)\n",
    "tfidf_matrix.shape"
   ]
  },
  {
   "cell_type": "code",
   "execution_count": 74,
   "metadata": {},
   "outputs": [
    {
     "output_type": "execute_result",
     "data": {
      "text/plain": [
       "name\n",
       "Toy Story (1995)                      0\n",
       "Jumanji (1995)                        1\n",
       "Grumpier Old Men (1995)               2\n",
       "Waiting to Exhale (1995)              3\n",
       "Father of the Bride Part II (1995)    4\n",
       "dtype: int64"
      ]
     },
     "metadata": {},
     "execution_count": 74
    }
   ],
   "source": [
    "#to find cosine simularity \n",
    "from sklearn.metrics.pairwise import linear_kernel\n",
    "cos_dist = linear_kernel(tfidf_matrix,tfidf_matrix)\n",
    "data_index = pd.Series(data.index, index =data['name'] ).drop_duplicates()\n",
    "data_index.head()"
   ]
  },
  {
   "cell_type": "code",
   "execution_count": 70,
   "metadata": {},
   "outputs": [
    {
     "output_type": "execute_result",
     "data": {
      "text/plain": [
       "22"
      ]
     },
     "metadata": {},
     "execution_count": 70
    }
   ],
   "source": [
    "data_id = data_index['Assassins (1995)']\n",
    "data_id"
   ]
  },
  {
   "cell_type": "code",
   "execution_count": 72,
   "metadata": {},
   "outputs": [
    {
     "output_type": "error",
     "ename": "NameError",
     "evalue": "name 'cosine_sim_matrix' is not defined",
     "traceback": [
      "\u001b[1;31m---------------------------------------------------------------------------\u001b[0m",
      "\u001b[1;31mNameError\u001b[0m                                 Traceback (most recent call last)",
      "\u001b[1;32m<ipython-input-72-635ee2795a53>\u001b[0m in \u001b[0;36m<module>\u001b[1;34m\u001b[0m\n\u001b[0;32m     13\u001b[0m     \u001b[1;31m# anime_similar_show.drop([\"index\"], axis=1, inplace=True)\u001b[0m\u001b[1;33m\u001b[0m\u001b[1;33m\u001b[0m\u001b[1;33m\u001b[0m\u001b[0m\n\u001b[0;32m     14\u001b[0m     \u001b[0mprint\u001b[0m \u001b[1;33m(\u001b[0m\u001b[0mdata_similar_show\u001b[0m\u001b[1;33m)\u001b[0m\u001b[1;33m\u001b[0m\u001b[1;33m\u001b[0m\u001b[0m\n\u001b[1;32m---> 15\u001b[1;33m \u001b[0mget_recommendation\u001b[0m\u001b[1;33m(\u001b[0m\u001b[1;34m\"Bad Boys (1995)\"\u001b[0m\u001b[1;33m,\u001b[0m \u001b[0mtopN\u001b[0m \u001b[1;33m=\u001b[0m \u001b[1;36m10\u001b[0m\u001b[1;33m)\u001b[0m\u001b[1;33m\u001b[0m\u001b[1;33m\u001b[0m\u001b[0m\n\u001b[0m\u001b[0;32m     16\u001b[0m \u001b[0mdata_index\u001b[0m\u001b[1;33m[\u001b[0m\u001b[1;34m\"Bad Boys (1995)\"\u001b[0m\u001b[1;33m]\u001b[0m\u001b[1;33m\u001b[0m\u001b[1;33m\u001b[0m\u001b[0m\n",
      "\u001b[1;32m<ipython-input-72-635ee2795a53>\u001b[0m in \u001b[0;36mget_recommendation\u001b[1;34m(Name, topN)\u001b[0m\n\u001b[0;32m      2\u001b[0m \u001b[1;32mdef\u001b[0m \u001b[0mget_recommendation\u001b[0m\u001b[1;33m(\u001b[0m\u001b[0mName\u001b[0m\u001b[1;33m,\u001b[0m\u001b[0mtopN\u001b[0m\u001b[1;33m)\u001b[0m\u001b[1;33m:\u001b[0m\u001b[1;33m\u001b[0m\u001b[1;33m\u001b[0m\u001b[0m\n\u001b[0;32m      3\u001b[0m     \u001b[0mdata_id\u001b[0m \u001b[1;33m=\u001b[0m \u001b[0mdata_index\u001b[0m\u001b[1;33m[\u001b[0m\u001b[0mName\u001b[0m\u001b[1;33m]\u001b[0m\u001b[1;33m\u001b[0m\u001b[1;33m\u001b[0m\u001b[0m\n\u001b[1;32m----> 4\u001b[1;33m     \u001b[0mcosine_scores\u001b[0m \u001b[1;33m=\u001b[0m \u001b[0mlist\u001b[0m\u001b[1;33m(\u001b[0m\u001b[0menumerate\u001b[0m\u001b[1;33m(\u001b[0m\u001b[0mcosine_sim_matrix\u001b[0m\u001b[1;33m[\u001b[0m\u001b[0mdata_id\u001b[0m\u001b[1;33m]\u001b[0m\u001b[1;33m)\u001b[0m\u001b[1;33m)\u001b[0m\u001b[1;33m\u001b[0m\u001b[1;33m\u001b[0m\u001b[0m\n\u001b[0m\u001b[0;32m      5\u001b[0m     \u001b[0mcosine_scores\u001b[0m \u001b[1;33m=\u001b[0m \u001b[0msorted\u001b[0m\u001b[1;33m(\u001b[0m\u001b[0mcosine_scores\u001b[0m\u001b[1;33m,\u001b[0m \u001b[0mkey\u001b[0m\u001b[1;33m=\u001b[0m\u001b[1;32mlambda\u001b[0m \u001b[0mx\u001b[0m\u001b[1;33m:\u001b[0m\u001b[0mx\u001b[0m\u001b[1;33m[\u001b[0m\u001b[1;36m1\u001b[0m\u001b[1;33m]\u001b[0m\u001b[1;33m,\u001b[0m \u001b[0mreverse\u001b[0m \u001b[1;33m=\u001b[0m \u001b[1;32mTrue\u001b[0m\u001b[1;33m)\u001b[0m\u001b[1;33m\u001b[0m\u001b[1;33m\u001b[0m\u001b[0m\n\u001b[0;32m      6\u001b[0m     \u001b[0mcosine_scores_N\u001b[0m \u001b[1;33m=\u001b[0m \u001b[0mcosine_scores\u001b[0m\u001b[1;33m[\u001b[0m\u001b[1;36m0\u001b[0m\u001b[1;33m:\u001b[0m \u001b[0mtopN\u001b[0m\u001b[1;33m+\u001b[0m\u001b[1;36m1\u001b[0m\u001b[1;33m]\u001b[0m\u001b[1;33m\u001b[0m\u001b[1;33m\u001b[0m\u001b[0m\n",
      "\u001b[1;31mNameError\u001b[0m: name 'cosine_sim_matrix' is not defined"
     ]
    }
   ],
   "source": [
    "# from sklearn.metrics.pairwise import cosine_similarity\n",
    "# def get_recommendation(Name,topN):\n",
    "#     data_id = data_index[Name]\n",
    "#     cosine_scores = list(enumerate(cosine_sim_matrix[data_id]))\n",
    "#     cosine_scores = sorted(cosine_scores, key=lambda x:x[1], reverse = True)\n",
    "#     cosine_scores_N = cosine_scores[0: topN+1]\n",
    "#     data_idx  =  [i[0] for i in cosine_scores_N]\n",
    "#     data_scores =  [i[1] for i in cosine_scores_N]\n",
    "#     data_similar_show = pd.DataFrame(columns=[\"Name\", \"Score\"])\n",
    "#     data_similar_show[\"Name\"] = data.loc[data_idx, \"Name\"]\n",
    "#     data_similar_show[\"Score\"] = data_scores\n",
    "#     data_similar_show.reset_index(inplace = True)  \n",
    "#     # anime_similar_show.drop([\"index\"], axis=1, inplace=True)\n",
    "#     print (data_similar_show)\n",
    "# get_recommendation(\"Bad Boys (1995)\", topN = 10)\n",
    "# data_index[\"Bad Boys (1995)\"]\n"
   ]
  },
  {
   "cell_type": "code",
   "execution_count": 78,
   "metadata": {},
   "outputs": [
    {
     "output_type": "error",
     "ename": "NameError",
     "evalue": "name 'cosine_sim_matrix' is not defined",
     "traceback": [
      "\u001b[1;31m---------------------------------------------------------------------------\u001b[0m",
      "\u001b[1;31mNameError\u001b[0m                                 Traceback (most recent call last)",
      "\u001b[1;32m<ipython-input-78-5c7e817b7ed6>\u001b[0m in \u001b[0;36m<module>\u001b[1;34m\u001b[0m\n\u001b[0;32m     29\u001b[0m \u001b[1;33m\u001b[0m\u001b[0m\n\u001b[0;32m     30\u001b[0m \u001b[1;31m# Enter your anime and number of anime's to be recommended\u001b[0m\u001b[1;33m\u001b[0m\u001b[1;33m\u001b[0m\u001b[1;33m\u001b[0m\u001b[0m\n\u001b[1;32m---> 31\u001b[1;33m \u001b[0mget_recommendations\u001b[0m\u001b[1;33m(\u001b[0m\u001b[1;34m\"Bad Boys (1995)\"\u001b[0m\u001b[1;33m,\u001b[0m \u001b[0mtopN\u001b[0m \u001b[1;33m=\u001b[0m \u001b[1;36m10\u001b[0m\u001b[1;33m)\u001b[0m\u001b[1;33m\u001b[0m\u001b[1;33m\u001b[0m\u001b[0m\n\u001b[0m\u001b[0;32m     32\u001b[0m \u001b[0mdata_index\u001b[0m\u001b[1;33m[\u001b[0m\u001b[1;34m\"Bad Boys (1995)\"\u001b[0m\u001b[1;33m]\u001b[0m\u001b[1;33m\u001b[0m\u001b[1;33m\u001b[0m\u001b[0m\n",
      "\u001b[1;32m<ipython-input-78-5c7e817b7ed6>\u001b[0m in \u001b[0;36mget_recommendations\u001b[1;34m(Name, topN)\u001b[0m\n\u001b[0;32m      6\u001b[0m     \u001b[1;31m# Getting the pair wise similarity score for all the anime's with that\u001b[0m\u001b[1;33m\u001b[0m\u001b[1;33m\u001b[0m\u001b[1;33m\u001b[0m\u001b[0m\n\u001b[0;32m      7\u001b[0m     \u001b[1;31m# anime\u001b[0m\u001b[1;33m\u001b[0m\u001b[1;33m\u001b[0m\u001b[1;33m\u001b[0m\u001b[0m\n\u001b[1;32m----> 8\u001b[1;33m     \u001b[0mcosine_scores\u001b[0m \u001b[1;33m=\u001b[0m \u001b[0mlist\u001b[0m\u001b[1;33m(\u001b[0m\u001b[0menumerate\u001b[0m\u001b[1;33m(\u001b[0m\u001b[0mcosine_sim_matrix\u001b[0m\u001b[1;33m[\u001b[0m\u001b[0manime_id\u001b[0m\u001b[1;33m]\u001b[0m\u001b[1;33m)\u001b[0m\u001b[1;33m)\u001b[0m\u001b[1;33m\u001b[0m\u001b[1;33m\u001b[0m\u001b[0m\n\u001b[0m\u001b[0;32m      9\u001b[0m \u001b[1;33m\u001b[0m\u001b[0m\n\u001b[0;32m     10\u001b[0m     \u001b[1;31m# Sorting the cosine_similarity scores based on scores\u001b[0m\u001b[1;33m\u001b[0m\u001b[1;33m\u001b[0m\u001b[1;33m\u001b[0m\u001b[0m\n",
      "\u001b[1;31mNameError\u001b[0m: name 'cosine_sim_matrix' is not defined"
     ]
    }
   ],
   "source": [
    "def get_recommendations(Name, topN):    \n",
    "    # topN = 10\n",
    "    # Getting the movie index using its title \n",
    "    data_id = data_index[Name]\n",
    "    \n",
    "    # Getting the pair wise similarity score for all the anime's with that \n",
    "    # anime\n",
    "    cosine_scores = list(enumerate(cosine_sim_matrix[anime_id]))\n",
    "    \n",
    "    # Sorting the cosine_similarity scores based on scores \n",
    "    cosine_scores = sorted(cosine_scores, key=lambda x:x[1], reverse = True)\n",
    "    \n",
    "    # Get the scores of top N most similar movies \n",
    "    cosine_scores_N = cosine_scores[0: topN+1]\n",
    "    \n",
    "    # Getting the movie index \n",
    "    data_idx  =  [i[0] for i in cosine_scores_N]\n",
    "    data_scores =  [i[1] for i in cosine_scores_N]\n",
    "    \n",
    "    # Similar movies and scores\n",
    "    data_similar_show = pd.DataFrame(columns=[\"name\", \"Score\"])\n",
    "    data_similar_show[\"name\"] = data.loc[data_idx, \"name\"]\n",
    "    data_similar_show[\"Score\"] = data_scores\n",
    "    data_similar_show.reset_index(inplace = True)  \n",
    "    # anime_similar_show.drop([\"index\"], axis=1, inplace=True)\n",
    "    print (data_similar_show)\n",
    "    # return (anime_similar_show)\n",
    "\n",
    "    \n",
    "# Enter your anime and number of anime's to be recommended \n",
    "get_recommendations(\"Bad Boys (1995)\", topN = 10)\n",
    "data_index[\"Bad Boys (1995)\"]\n"
   ]
  },
  {
   "cell_type": "code",
   "execution_count": null,
   "metadata": {},
   "outputs": [],
   "source": []
  }
 ]
}