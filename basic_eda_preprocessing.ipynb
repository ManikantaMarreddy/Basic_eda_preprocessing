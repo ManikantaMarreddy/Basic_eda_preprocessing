{
 "metadata": {
  "language_info": {
   "codemirror_mode": {
    "name": "ipython",
    "version": 3
   },
   "file_extension": ".py",
   "mimetype": "text/x-python",
   "name": "python",
   "nbconvert_exporter": "python",
   "pygments_lexer": "ipython3",
   "version": "3.9.2-final"
  },
  "orig_nbformat": 2,
  "kernelspec": {
   "name": "python3",
   "display_name": "Python 3.9.2 64-bit",
   "metadata": {
    "interpreter": {
     "hash": "c4d5cd7b0c70924ca48f040df1c3a4a7369857f1d4e95216826e28378c0ac00e"
    }
   }
  }
 },
 "nbformat": 4,
 "nbformat_minor": 2,
 "cells": [
  {
   "cell_type": "code",
   "execution_count": 86,
   "metadata": {},
   "outputs": [],
   "source": [
    "import pandas as pd\n",
    "import numpy as np\n",
    "import sklearn as sk\n",
    "import matplotlib.pyplot as plt\n",
    "import seaborn as sks\n"
   ]
  },
  {
   "cell_type": "code",
   "execution_count": 87,
   "metadata": {},
   "outputs": [
    {
     "output_type": "execute_result",
     "data": {
      "text/plain": [
       "    Country   Age    Salary Purchased\n",
       "0    France  44.0   72000.0        No\n",
       "1     Spain  27.0   48000.0       Yes\n",
       "2   Germany  30.0   54000.0       NaN\n",
       "3     Spain  38.0   61000.0        no\n",
       "4   Germany  40.0       NaN       Yes\n",
       "5    France  35.0   58000.0       Yes\n",
       "6     Spain   NaN   52000.0        No\n",
       "7    France  48.0       NaN       Yes\n",
       "8   Germany  50.0   83000.0        No\n",
       "9    France   NaN   67000.0       NaN\n",
       "10    India  40.0   12000.0        No\n",
       "11    Spain  45.0  110000.0       Yes\n",
       "12   France  68.0       NaN        No\n",
       "13    India  65.0  120000.0        No\n",
       "14    India  22.0   12000.0       Yes\n",
       "15    Spain  22.0   58000.0        No\n",
       "16  Germany  22.0       NaN       Yes\n",
       "17    Spain  22.0   78000.0       NaN\n",
       "18  Germany  22.0   83000.0       Yes\n",
       "19   France  22.0   68000.0        No\n",
       "20    Spain  22.0   12000.0       Yes\n",
       "21   France  22.0   11000.0        No\n",
       "22  Germany  22.0  140000.0        no\n",
       "23   France  22.0   14000.0       Yes\n",
       "24    India  22.0       NaN        No\n",
       "25    India  22.0   55000.0       Yes\n",
       "26    Spain  22.0   79000.0       NaN\n",
       "27  Germany  22.0   88000.0       Yes\n",
       "28    Spain  22.0       NaN        No\n",
       "29  Germany  22.0  110000.0       Yes\n",
       "30   France  22.0   13000.0        No\n",
       "31    Spain  22.0  120000.0       Yes\n",
       "32   France  22.0   12000.0       Yes\n",
       "33  Germany  22.0   58000.0       NaN\n",
       "34    India  22.0   57000.0       Yes\n",
       "35    Spain  22.0   79000.0        No\n",
       "36  Germany  22.0       NaN       Yes\n",
       "37   France  22.0   67000.0       NaN\n",
       "38    India  22.0   12000.0       Yes\n",
       "39    India  22.0   13000.0        No\n",
       "40    Spain  22.0  110000.0       Yes\n",
       "41  Germany  22.0   13000.0        No\n",
       "42    Spain  22.0  120000.0       Yes\n",
       "43  Germany  22.0   10000.0        No\n",
       "44   France  22.0       NaN       Yes\n",
       "45    Spain  22.0   52000.0        No\n",
       "46   France  22.0    9000.0       NaN\n",
       "47   France  22.0   85000.0       Yes\n",
       "48    Spain  22.0   68000.0        No"
      ],
      "text/html": "<div>\n<style scoped>\n    .dataframe tbody tr th:only-of-type {\n        vertical-align: middle;\n    }\n\n    .dataframe tbody tr th {\n        vertical-align: top;\n    }\n\n    .dataframe thead th {\n        text-align: right;\n    }\n</style>\n<table border=\"1\" class=\"dataframe\">\n  <thead>\n    <tr style=\"text-align: right;\">\n      <th></th>\n      <th>Country</th>\n      <th>Age</th>\n      <th>Salary</th>\n      <th>Purchased</th>\n    </tr>\n  </thead>\n  <tbody>\n    <tr>\n      <th>0</th>\n      <td>France</td>\n      <td>44.0</td>\n      <td>72000.0</td>\n      <td>No</td>\n    </tr>\n    <tr>\n      <th>1</th>\n      <td>Spain</td>\n      <td>27.0</td>\n      <td>48000.0</td>\n      <td>Yes</td>\n    </tr>\n    <tr>\n      <th>2</th>\n      <td>Germany</td>\n      <td>30.0</td>\n      <td>54000.0</td>\n      <td>NaN</td>\n    </tr>\n    <tr>\n      <th>3</th>\n      <td>Spain</td>\n      <td>38.0</td>\n      <td>61000.0</td>\n      <td>no</td>\n    </tr>\n    <tr>\n      <th>4</th>\n      <td>Germany</td>\n      <td>40.0</td>\n      <td>NaN</td>\n      <td>Yes</td>\n    </tr>\n    <tr>\n      <th>5</th>\n      <td>France</td>\n      <td>35.0</td>\n      <td>58000.0</td>\n      <td>Yes</td>\n    </tr>\n    <tr>\n      <th>6</th>\n      <td>Spain</td>\n      <td>NaN</td>\n      <td>52000.0</td>\n      <td>No</td>\n    </tr>\n    <tr>\n      <th>7</th>\n      <td>France</td>\n      <td>48.0</td>\n      <td>NaN</td>\n      <td>Yes</td>\n    </tr>\n    <tr>\n      <th>8</th>\n      <td>Germany</td>\n      <td>50.0</td>\n      <td>83000.0</td>\n      <td>No</td>\n    </tr>\n    <tr>\n      <th>9</th>\n      <td>France</td>\n      <td>NaN</td>\n      <td>67000.0</td>\n      <td>NaN</td>\n    </tr>\n    <tr>\n      <th>10</th>\n      <td>India</td>\n      <td>40.0</td>\n      <td>12000.0</td>\n      <td>No</td>\n    </tr>\n    <tr>\n      <th>11</th>\n      <td>Spain</td>\n      <td>45.0</td>\n      <td>110000.0</td>\n      <td>Yes</td>\n    </tr>\n    <tr>\n      <th>12</th>\n      <td>France</td>\n      <td>68.0</td>\n      <td>NaN</td>\n      <td>No</td>\n    </tr>\n    <tr>\n      <th>13</th>\n      <td>India</td>\n      <td>65.0</td>\n      <td>120000.0</td>\n      <td>No</td>\n    </tr>\n    <tr>\n      <th>14</th>\n      <td>India</td>\n      <td>22.0</td>\n      <td>12000.0</td>\n      <td>Yes</td>\n    </tr>\n    <tr>\n      <th>15</th>\n      <td>Spain</td>\n      <td>22.0</td>\n      <td>58000.0</td>\n      <td>No</td>\n    </tr>\n    <tr>\n      <th>16</th>\n      <td>Germany</td>\n      <td>22.0</td>\n      <td>NaN</td>\n      <td>Yes</td>\n    </tr>\n    <tr>\n      <th>17</th>\n      <td>Spain</td>\n      <td>22.0</td>\n      <td>78000.0</td>\n      <td>NaN</td>\n    </tr>\n    <tr>\n      <th>18</th>\n      <td>Germany</td>\n      <td>22.0</td>\n      <td>83000.0</td>\n      <td>Yes</td>\n    </tr>\n    <tr>\n      <th>19</th>\n      <td>France</td>\n      <td>22.0</td>\n      <td>68000.0</td>\n      <td>No</td>\n    </tr>\n    <tr>\n      <th>20</th>\n      <td>Spain</td>\n      <td>22.0</td>\n      <td>12000.0</td>\n      <td>Yes</td>\n    </tr>\n    <tr>\n      <th>21</th>\n      <td>France</td>\n      <td>22.0</td>\n      <td>11000.0</td>\n      <td>No</td>\n    </tr>\n    <tr>\n      <th>22</th>\n      <td>Germany</td>\n      <td>22.0</td>\n      <td>140000.0</td>\n      <td>no</td>\n    </tr>\n    <tr>\n      <th>23</th>\n      <td>France</td>\n      <td>22.0</td>\n      <td>14000.0</td>\n      <td>Yes</td>\n    </tr>\n    <tr>\n      <th>24</th>\n      <td>India</td>\n      <td>22.0</td>\n      <td>NaN</td>\n      <td>No</td>\n    </tr>\n    <tr>\n      <th>25</th>\n      <td>India</td>\n      <td>22.0</td>\n      <td>55000.0</td>\n      <td>Yes</td>\n    </tr>\n    <tr>\n      <th>26</th>\n      <td>Spain</td>\n      <td>22.0</td>\n      <td>79000.0</td>\n      <td>NaN</td>\n    </tr>\n    <tr>\n      <th>27</th>\n      <td>Germany</td>\n      <td>22.0</td>\n      <td>88000.0</td>\n      <td>Yes</td>\n    </tr>\n    <tr>\n      <th>28</th>\n      <td>Spain</td>\n      <td>22.0</td>\n      <td>NaN</td>\n      <td>No</td>\n    </tr>\n    <tr>\n      <th>29</th>\n      <td>Germany</td>\n      <td>22.0</td>\n      <td>110000.0</td>\n      <td>Yes</td>\n    </tr>\n    <tr>\n      <th>30</th>\n      <td>France</td>\n      <td>22.0</td>\n      <td>13000.0</td>\n      <td>No</td>\n    </tr>\n    <tr>\n      <th>31</th>\n      <td>Spain</td>\n      <td>22.0</td>\n      <td>120000.0</td>\n      <td>Yes</td>\n    </tr>\n    <tr>\n      <th>32</th>\n      <td>France</td>\n      <td>22.0</td>\n      <td>12000.0</td>\n      <td>Yes</td>\n    </tr>\n    <tr>\n      <th>33</th>\n      <td>Germany</td>\n      <td>22.0</td>\n      <td>58000.0</td>\n      <td>NaN</td>\n    </tr>\n    <tr>\n      <th>34</th>\n      <td>India</td>\n      <td>22.0</td>\n      <td>57000.0</td>\n      <td>Yes</td>\n    </tr>\n    <tr>\n      <th>35</th>\n      <td>Spain</td>\n      <td>22.0</td>\n      <td>79000.0</td>\n      <td>No</td>\n    </tr>\n    <tr>\n      <th>36</th>\n      <td>Germany</td>\n      <td>22.0</td>\n      <td>NaN</td>\n      <td>Yes</td>\n    </tr>\n    <tr>\n      <th>37</th>\n      <td>France</td>\n      <td>22.0</td>\n      <td>67000.0</td>\n      <td>NaN</td>\n    </tr>\n    <tr>\n      <th>38</th>\n      <td>India</td>\n      <td>22.0</td>\n      <td>12000.0</td>\n      <td>Yes</td>\n    </tr>\n    <tr>\n      <th>39</th>\n      <td>India</td>\n      <td>22.0</td>\n      <td>13000.0</td>\n      <td>No</td>\n    </tr>\n    <tr>\n      <th>40</th>\n      <td>Spain</td>\n      <td>22.0</td>\n      <td>110000.0</td>\n      <td>Yes</td>\n    </tr>\n    <tr>\n      <th>41</th>\n      <td>Germany</td>\n      <td>22.0</td>\n      <td>13000.0</td>\n      <td>No</td>\n    </tr>\n    <tr>\n      <th>42</th>\n      <td>Spain</td>\n      <td>22.0</td>\n      <td>120000.0</td>\n      <td>Yes</td>\n    </tr>\n    <tr>\n      <th>43</th>\n      <td>Germany</td>\n      <td>22.0</td>\n      <td>10000.0</td>\n      <td>No</td>\n    </tr>\n    <tr>\n      <th>44</th>\n      <td>France</td>\n      <td>22.0</td>\n      <td>NaN</td>\n      <td>Yes</td>\n    </tr>\n    <tr>\n      <th>45</th>\n      <td>Spain</td>\n      <td>22.0</td>\n      <td>52000.0</td>\n      <td>No</td>\n    </tr>\n    <tr>\n      <th>46</th>\n      <td>France</td>\n      <td>22.0</td>\n      <td>9000.0</td>\n      <td>NaN</td>\n    </tr>\n    <tr>\n      <th>47</th>\n      <td>France</td>\n      <td>22.0</td>\n      <td>85000.0</td>\n      <td>Yes</td>\n    </tr>\n    <tr>\n      <th>48</th>\n      <td>Spain</td>\n      <td>22.0</td>\n      <td>68000.0</td>\n      <td>No</td>\n    </tr>\n  </tbody>\n</table>\n</div>"
     },
     "metadata": {},
     "execution_count": 87
    }
   ],
   "source": [
    "data = pd.read_csv(\"E:\\Data_1.csv\")\n",
    "data"
   ]
  },
  {
   "cell_type": "code",
   "execution_count": 110,
   "metadata": {},
   "outputs": [
    {
     "output_type": "execute_result",
     "data": {
      "text/plain": [
       "Age          2\n",
       "Salary       8\n",
       "Purchased    7\n",
       "dtype: int64"
      ]
     },
     "metadata": {},
     "execution_count": 110
    }
   ],
   "source": [
    "data[[\"Age\",\"Salary\",\"Purchased\"]].isna().sum()\n"
   ]
  },
  {
   "cell_type": "code",
   "execution_count": 89,
   "metadata": {},
   "outputs": [
    {
     "output_type": "execute_result",
     "data": {
      "text/plain": [
       "Age          27.659574\n",
       "Salary    59585.365854\n",
       "dtype: float64"
      ]
     },
     "metadata": {},
     "execution_count": 89
    }
   ],
   "source": [
    "data.mean()"
   ]
  },
  {
   "cell_type": "code",
   "execution_count": 90,
   "metadata": {},
   "outputs": [
    {
     "output_type": "execute_result",
     "data": {
      "text/plain": [
       "Age          22.0\n",
       "Salary    58000.0\n",
       "dtype: float64"
      ]
     },
     "metadata": {},
     "execution_count": 90
    }
   ],
   "source": [
    "data.median()"
   ]
  },
  {
   "cell_type": "code",
   "execution_count": 91,
   "metadata": {},
   "outputs": [
    {
     "output_type": "execute_result",
     "data": {
      "text/plain": [
       "  Country   Age   Salary Purchased\n",
       "0   Spain  22.0  12000.0       Yes"
      ],
      "text/html": "<div>\n<style scoped>\n    .dataframe tbody tr th:only-of-type {\n        vertical-align: middle;\n    }\n\n    .dataframe tbody tr th {\n        vertical-align: top;\n    }\n\n    .dataframe thead th {\n        text-align: right;\n    }\n</style>\n<table border=\"1\" class=\"dataframe\">\n  <thead>\n    <tr style=\"text-align: right;\">\n      <th></th>\n      <th>Country</th>\n      <th>Age</th>\n      <th>Salary</th>\n      <th>Purchased</th>\n    </tr>\n  </thead>\n  <tbody>\n    <tr>\n      <th>0</th>\n      <td>Spain</td>\n      <td>22.0</td>\n      <td>12000.0</td>\n      <td>Yes</td>\n    </tr>\n  </tbody>\n</table>\n</div>"
     },
     "metadata": {},
     "execution_count": 91
    }
   ],
   "source": [
    "data.mode()"
   ]
  },
  {
   "cell_type": "code",
   "execution_count": 92,
   "metadata": {},
   "outputs": [
    {
     "output_type": "execute_result",
     "data": {
      "text/plain": [
       "       Country        Age         Salary Purchased\n",
       "count       49  47.000000      41.000000        42\n",
       "unique       4        NaN            NaN         3\n",
       "top      Spain        NaN            NaN       Yes\n",
       "freq        15        NaN            NaN        22\n",
       "mean       NaN  27.659574   59585.365854       NaN\n",
       "std        NaN  11.510443   37648.356943       NaN\n",
       "min        NaN  22.000000    9000.000000       NaN\n",
       "25%        NaN  22.000000   13000.000000       NaN\n",
       "50%        NaN  22.000000   58000.000000       NaN\n",
       "75%        NaN  24.500000   83000.000000       NaN\n",
       "max        NaN  68.000000  140000.000000       NaN"
      ],
      "text/html": "<div>\n<style scoped>\n    .dataframe tbody tr th:only-of-type {\n        vertical-align: middle;\n    }\n\n    .dataframe tbody tr th {\n        vertical-align: top;\n    }\n\n    .dataframe thead th {\n        text-align: right;\n    }\n</style>\n<table border=\"1\" class=\"dataframe\">\n  <thead>\n    <tr style=\"text-align: right;\">\n      <th></th>\n      <th>Country</th>\n      <th>Age</th>\n      <th>Salary</th>\n      <th>Purchased</th>\n    </tr>\n  </thead>\n  <tbody>\n    <tr>\n      <th>count</th>\n      <td>49</td>\n      <td>47.000000</td>\n      <td>41.000000</td>\n      <td>42</td>\n    </tr>\n    <tr>\n      <th>unique</th>\n      <td>4</td>\n      <td>NaN</td>\n      <td>NaN</td>\n      <td>3</td>\n    </tr>\n    <tr>\n      <th>top</th>\n      <td>Spain</td>\n      <td>NaN</td>\n      <td>NaN</td>\n      <td>Yes</td>\n    </tr>\n    <tr>\n      <th>freq</th>\n      <td>15</td>\n      <td>NaN</td>\n      <td>NaN</td>\n      <td>22</td>\n    </tr>\n    <tr>\n      <th>mean</th>\n      <td>NaN</td>\n      <td>27.659574</td>\n      <td>59585.365854</td>\n      <td>NaN</td>\n    </tr>\n    <tr>\n      <th>std</th>\n      <td>NaN</td>\n      <td>11.510443</td>\n      <td>37648.356943</td>\n      <td>NaN</td>\n    </tr>\n    <tr>\n      <th>min</th>\n      <td>NaN</td>\n      <td>22.000000</td>\n      <td>9000.000000</td>\n      <td>NaN</td>\n    </tr>\n    <tr>\n      <th>25%</th>\n      <td>NaN</td>\n      <td>22.000000</td>\n      <td>13000.000000</td>\n      <td>NaN</td>\n    </tr>\n    <tr>\n      <th>50%</th>\n      <td>NaN</td>\n      <td>22.000000</td>\n      <td>58000.000000</td>\n      <td>NaN</td>\n    </tr>\n    <tr>\n      <th>75%</th>\n      <td>NaN</td>\n      <td>24.500000</td>\n      <td>83000.000000</td>\n      <td>NaN</td>\n    </tr>\n    <tr>\n      <th>max</th>\n      <td>NaN</td>\n      <td>68.000000</td>\n      <td>140000.000000</td>\n      <td>NaN</td>\n    </tr>\n  </tbody>\n</table>\n</div>"
     },
     "metadata": {},
     "execution_count": 92
    }
   ],
   "source": [
    "data.describe(include='all')"
   ]
  },
  {
   "cell_type": "code",
   "execution_count": 93,
   "metadata": {},
   "outputs": [
    {
     "output_type": "execute_result",
     "data": {
      "text/plain": [
       "   Country   Age        Salary Purchased\n",
       "0   France  44.0  72000.000000        No\n",
       "1    Spain  27.0  48000.000000       Yes\n",
       "2  Germany  30.0  54000.000000       NaN\n",
       "3    Spain  38.0  61000.000000        no\n",
       "4  Germany  40.0  59585.365854       Yes"
      ],
      "text/html": "<div>\n<style scoped>\n    .dataframe tbody tr th:only-of-type {\n        vertical-align: middle;\n    }\n\n    .dataframe tbody tr th {\n        vertical-align: top;\n    }\n\n    .dataframe thead th {\n        text-align: right;\n    }\n</style>\n<table border=\"1\" class=\"dataframe\">\n  <thead>\n    <tr style=\"text-align: right;\">\n      <th></th>\n      <th>Country</th>\n      <th>Age</th>\n      <th>Salary</th>\n      <th>Purchased</th>\n    </tr>\n  </thead>\n  <tbody>\n    <tr>\n      <th>0</th>\n      <td>France</td>\n      <td>44.0</td>\n      <td>72000.000000</td>\n      <td>No</td>\n    </tr>\n    <tr>\n      <th>1</th>\n      <td>Spain</td>\n      <td>27.0</td>\n      <td>48000.000000</td>\n      <td>Yes</td>\n    </tr>\n    <tr>\n      <th>2</th>\n      <td>Germany</td>\n      <td>30.0</td>\n      <td>54000.000000</td>\n      <td>NaN</td>\n    </tr>\n    <tr>\n      <th>3</th>\n      <td>Spain</td>\n      <td>38.0</td>\n      <td>61000.000000</td>\n      <td>no</td>\n    </tr>\n    <tr>\n      <th>4</th>\n      <td>Germany</td>\n      <td>40.0</td>\n      <td>59585.365854</td>\n      <td>Yes</td>\n    </tr>\n  </tbody>\n</table>\n</div>"
     },
     "metadata": {},
     "execution_count": 93
    }
   ],
   "source": [
    "meandata = data.fillna(data.mean())\n",
    "meandata.head()\n"
   ]
  },
  {
   "cell_type": "code",
   "execution_count": 94,
   "metadata": {},
   "outputs": [
    {
     "output_type": "execute_result",
     "data": {
      "text/plain": [
       "    Country   Age    Salary Purchased\n",
       "0    France  44.0   72000.0        No\n",
       "1     Spain  27.0   48000.0       Yes\n",
       "2   Germany  30.0   54000.0       NaN\n",
       "3     Spain  38.0   61000.0        no\n",
       "4   Germany  40.0   58000.0       Yes\n",
       "5    France  35.0   58000.0       Yes\n",
       "6     Spain  22.0   52000.0        No\n",
       "7    France  48.0   58000.0       Yes\n",
       "8   Germany  50.0   83000.0        No\n",
       "9    France  22.0   67000.0       NaN\n",
       "10    India  40.0   12000.0        No\n",
       "11    Spain  45.0  110000.0       Yes\n",
       "12   France  68.0   58000.0        No\n",
       "13    India  65.0  120000.0        No\n",
       "14    India  22.0   12000.0       Yes\n",
       "15    Spain  22.0   58000.0        No\n",
       "16  Germany  22.0   58000.0       Yes\n",
       "17    Spain  22.0   78000.0       NaN\n",
       "18  Germany  22.0   83000.0       Yes\n",
       "19   France  22.0   68000.0        No\n",
       "20    Spain  22.0   12000.0       Yes\n",
       "21   France  22.0   11000.0        No\n",
       "22  Germany  22.0  140000.0        no\n",
       "23   France  22.0   14000.0       Yes\n",
       "24    India  22.0   58000.0        No\n",
       "25    India  22.0   55000.0       Yes\n",
       "26    Spain  22.0   79000.0       NaN\n",
       "27  Germany  22.0   88000.0       Yes\n",
       "28    Spain  22.0   58000.0        No\n",
       "29  Germany  22.0  110000.0       Yes\n",
       "30   France  22.0   13000.0        No\n",
       "31    Spain  22.0  120000.0       Yes\n",
       "32   France  22.0   12000.0       Yes\n",
       "33  Germany  22.0   58000.0       NaN\n",
       "34    India  22.0   57000.0       Yes\n",
       "35    Spain  22.0   79000.0        No\n",
       "36  Germany  22.0   58000.0       Yes\n",
       "37   France  22.0   67000.0       NaN\n",
       "38    India  22.0   12000.0       Yes\n",
       "39    India  22.0   13000.0        No\n",
       "40    Spain  22.0  110000.0       Yes\n",
       "41  Germany  22.0   13000.0        No\n",
       "42    Spain  22.0  120000.0       Yes\n",
       "43  Germany  22.0   10000.0        No\n",
       "44   France  22.0   58000.0       Yes\n",
       "45    Spain  22.0   52000.0        No\n",
       "46   France  22.0    9000.0       NaN\n",
       "47   France  22.0   85000.0       Yes\n",
       "48    Spain  22.0   68000.0        No"
      ],
      "text/html": "<div>\n<style scoped>\n    .dataframe tbody tr th:only-of-type {\n        vertical-align: middle;\n    }\n\n    .dataframe tbody tr th {\n        vertical-align: top;\n    }\n\n    .dataframe thead th {\n        text-align: right;\n    }\n</style>\n<table border=\"1\" class=\"dataframe\">\n  <thead>\n    <tr style=\"text-align: right;\">\n      <th></th>\n      <th>Country</th>\n      <th>Age</th>\n      <th>Salary</th>\n      <th>Purchased</th>\n    </tr>\n  </thead>\n  <tbody>\n    <tr>\n      <th>0</th>\n      <td>France</td>\n      <td>44.0</td>\n      <td>72000.0</td>\n      <td>No</td>\n    </tr>\n    <tr>\n      <th>1</th>\n      <td>Spain</td>\n      <td>27.0</td>\n      <td>48000.0</td>\n      <td>Yes</td>\n    </tr>\n    <tr>\n      <th>2</th>\n      <td>Germany</td>\n      <td>30.0</td>\n      <td>54000.0</td>\n      <td>NaN</td>\n    </tr>\n    <tr>\n      <th>3</th>\n      <td>Spain</td>\n      <td>38.0</td>\n      <td>61000.0</td>\n      <td>no</td>\n    </tr>\n    <tr>\n      <th>4</th>\n      <td>Germany</td>\n      <td>40.0</td>\n      <td>58000.0</td>\n      <td>Yes</td>\n    </tr>\n    <tr>\n      <th>5</th>\n      <td>France</td>\n      <td>35.0</td>\n      <td>58000.0</td>\n      <td>Yes</td>\n    </tr>\n    <tr>\n      <th>6</th>\n      <td>Spain</td>\n      <td>22.0</td>\n      <td>52000.0</td>\n      <td>No</td>\n    </tr>\n    <tr>\n      <th>7</th>\n      <td>France</td>\n      <td>48.0</td>\n      <td>58000.0</td>\n      <td>Yes</td>\n    </tr>\n    <tr>\n      <th>8</th>\n      <td>Germany</td>\n      <td>50.0</td>\n      <td>83000.0</td>\n      <td>No</td>\n    </tr>\n    <tr>\n      <th>9</th>\n      <td>France</td>\n      <td>22.0</td>\n      <td>67000.0</td>\n      <td>NaN</td>\n    </tr>\n    <tr>\n      <th>10</th>\n      <td>India</td>\n      <td>40.0</td>\n      <td>12000.0</td>\n      <td>No</td>\n    </tr>\n    <tr>\n      <th>11</th>\n      <td>Spain</td>\n      <td>45.0</td>\n      <td>110000.0</td>\n      <td>Yes</td>\n    </tr>\n    <tr>\n      <th>12</th>\n      <td>France</td>\n      <td>68.0</td>\n      <td>58000.0</td>\n      <td>No</td>\n    </tr>\n    <tr>\n      <th>13</th>\n      <td>India</td>\n      <td>65.0</td>\n      <td>120000.0</td>\n      <td>No</td>\n    </tr>\n    <tr>\n      <th>14</th>\n      <td>India</td>\n      <td>22.0</td>\n      <td>12000.0</td>\n      <td>Yes</td>\n    </tr>\n    <tr>\n      <th>15</th>\n      <td>Spain</td>\n      <td>22.0</td>\n      <td>58000.0</td>\n      <td>No</td>\n    </tr>\n    <tr>\n      <th>16</th>\n      <td>Germany</td>\n      <td>22.0</td>\n      <td>58000.0</td>\n      <td>Yes</td>\n    </tr>\n    <tr>\n      <th>17</th>\n      <td>Spain</td>\n      <td>22.0</td>\n      <td>78000.0</td>\n      <td>NaN</td>\n    </tr>\n    <tr>\n      <th>18</th>\n      <td>Germany</td>\n      <td>22.0</td>\n      <td>83000.0</td>\n      <td>Yes</td>\n    </tr>\n    <tr>\n      <th>19</th>\n      <td>France</td>\n      <td>22.0</td>\n      <td>68000.0</td>\n      <td>No</td>\n    </tr>\n    <tr>\n      <th>20</th>\n      <td>Spain</td>\n      <td>22.0</td>\n      <td>12000.0</td>\n      <td>Yes</td>\n    </tr>\n    <tr>\n      <th>21</th>\n      <td>France</td>\n      <td>22.0</td>\n      <td>11000.0</td>\n      <td>No</td>\n    </tr>\n    <tr>\n      <th>22</th>\n      <td>Germany</td>\n      <td>22.0</td>\n      <td>140000.0</td>\n      <td>no</td>\n    </tr>\n    <tr>\n      <th>23</th>\n      <td>France</td>\n      <td>22.0</td>\n      <td>14000.0</td>\n      <td>Yes</td>\n    </tr>\n    <tr>\n      <th>24</th>\n      <td>India</td>\n      <td>22.0</td>\n      <td>58000.0</td>\n      <td>No</td>\n    </tr>\n    <tr>\n      <th>25</th>\n      <td>India</td>\n      <td>22.0</td>\n      <td>55000.0</td>\n      <td>Yes</td>\n    </tr>\n    <tr>\n      <th>26</th>\n      <td>Spain</td>\n      <td>22.0</td>\n      <td>79000.0</td>\n      <td>NaN</td>\n    </tr>\n    <tr>\n      <th>27</th>\n      <td>Germany</td>\n      <td>22.0</td>\n      <td>88000.0</td>\n      <td>Yes</td>\n    </tr>\n    <tr>\n      <th>28</th>\n      <td>Spain</td>\n      <td>22.0</td>\n      <td>58000.0</td>\n      <td>No</td>\n    </tr>\n    <tr>\n      <th>29</th>\n      <td>Germany</td>\n      <td>22.0</td>\n      <td>110000.0</td>\n      <td>Yes</td>\n    </tr>\n    <tr>\n      <th>30</th>\n      <td>France</td>\n      <td>22.0</td>\n      <td>13000.0</td>\n      <td>No</td>\n    </tr>\n    <tr>\n      <th>31</th>\n      <td>Spain</td>\n      <td>22.0</td>\n      <td>120000.0</td>\n      <td>Yes</td>\n    </tr>\n    <tr>\n      <th>32</th>\n      <td>France</td>\n      <td>22.0</td>\n      <td>12000.0</td>\n      <td>Yes</td>\n    </tr>\n    <tr>\n      <th>33</th>\n      <td>Germany</td>\n      <td>22.0</td>\n      <td>58000.0</td>\n      <td>NaN</td>\n    </tr>\n    <tr>\n      <th>34</th>\n      <td>India</td>\n      <td>22.0</td>\n      <td>57000.0</td>\n      <td>Yes</td>\n    </tr>\n    <tr>\n      <th>35</th>\n      <td>Spain</td>\n      <td>22.0</td>\n      <td>79000.0</td>\n      <td>No</td>\n    </tr>\n    <tr>\n      <th>36</th>\n      <td>Germany</td>\n      <td>22.0</td>\n      <td>58000.0</td>\n      <td>Yes</td>\n    </tr>\n    <tr>\n      <th>37</th>\n      <td>France</td>\n      <td>22.0</td>\n      <td>67000.0</td>\n      <td>NaN</td>\n    </tr>\n    <tr>\n      <th>38</th>\n      <td>India</td>\n      <td>22.0</td>\n      <td>12000.0</td>\n      <td>Yes</td>\n    </tr>\n    <tr>\n      <th>39</th>\n      <td>India</td>\n      <td>22.0</td>\n      <td>13000.0</td>\n      <td>No</td>\n    </tr>\n    <tr>\n      <th>40</th>\n      <td>Spain</td>\n      <td>22.0</td>\n      <td>110000.0</td>\n      <td>Yes</td>\n    </tr>\n    <tr>\n      <th>41</th>\n      <td>Germany</td>\n      <td>22.0</td>\n      <td>13000.0</td>\n      <td>No</td>\n    </tr>\n    <tr>\n      <th>42</th>\n      <td>Spain</td>\n      <td>22.0</td>\n      <td>120000.0</td>\n      <td>Yes</td>\n    </tr>\n    <tr>\n      <th>43</th>\n      <td>Germany</td>\n      <td>22.0</td>\n      <td>10000.0</td>\n      <td>No</td>\n    </tr>\n    <tr>\n      <th>44</th>\n      <td>France</td>\n      <td>22.0</td>\n      <td>58000.0</td>\n      <td>Yes</td>\n    </tr>\n    <tr>\n      <th>45</th>\n      <td>Spain</td>\n      <td>22.0</td>\n      <td>52000.0</td>\n      <td>No</td>\n    </tr>\n    <tr>\n      <th>46</th>\n      <td>France</td>\n      <td>22.0</td>\n      <td>9000.0</td>\n      <td>NaN</td>\n    </tr>\n    <tr>\n      <th>47</th>\n      <td>France</td>\n      <td>22.0</td>\n      <td>85000.0</td>\n      <td>Yes</td>\n    </tr>\n    <tr>\n      <th>48</th>\n      <td>Spain</td>\n      <td>22.0</td>\n      <td>68000.0</td>\n      <td>No</td>\n    </tr>\n  </tbody>\n</table>\n</div>"
     },
     "metadata": {},
     "execution_count": 94
    }
   ],
   "source": [
    "mediandata = data.fillna(data.median())\n",
    "mediandata"
   ]
  },
  {
   "cell_type": "code",
   "execution_count": 95,
   "metadata": {},
   "outputs": [
    {
     "output_type": "execute_result",
     "data": {
      "text/plain": [
       "   Country   Age   Salary Purchased\n",
       "0   France  44.0  72000.0        No\n",
       "1    Spain  27.0  48000.0       Yes\n",
       "2  Germany  30.0  54000.0       Yes\n",
       "3    Spain  38.0  61000.0        no\n",
       "4  Germany  40.0  58000.0       Yes"
      ],
      "text/html": "<div>\n<style scoped>\n    .dataframe tbody tr th:only-of-type {\n        vertical-align: middle;\n    }\n\n    .dataframe tbody tr th {\n        vertical-align: top;\n    }\n\n    .dataframe thead th {\n        text-align: right;\n    }\n</style>\n<table border=\"1\" class=\"dataframe\">\n  <thead>\n    <tr style=\"text-align: right;\">\n      <th></th>\n      <th>Country</th>\n      <th>Age</th>\n      <th>Salary</th>\n      <th>Purchased</th>\n    </tr>\n  </thead>\n  <tbody>\n    <tr>\n      <th>0</th>\n      <td>France</td>\n      <td>44.0</td>\n      <td>72000.0</td>\n      <td>No</td>\n    </tr>\n    <tr>\n      <th>1</th>\n      <td>Spain</td>\n      <td>27.0</td>\n      <td>48000.0</td>\n      <td>Yes</td>\n    </tr>\n    <tr>\n      <th>2</th>\n      <td>Germany</td>\n      <td>30.0</td>\n      <td>54000.0</td>\n      <td>Yes</td>\n    </tr>\n    <tr>\n      <th>3</th>\n      <td>Spain</td>\n      <td>38.0</td>\n      <td>61000.0</td>\n      <td>no</td>\n    </tr>\n    <tr>\n      <th>4</th>\n      <td>Germany</td>\n      <td>40.0</td>\n      <td>58000.0</td>\n      <td>Yes</td>\n    </tr>\n  </tbody>\n</table>\n</div>"
     },
     "metadata": {},
     "execution_count": 95
    }
   ],
   "source": [
    "mediandata['Purchased']= mediandata[\"Purchased\"].fillna(mediandata['Purchased'].mode()[0])\n",
    "mediandata.head()"
   ]
  },
  {
   "cell_type": "code",
   "execution_count": 96,
   "metadata": {},
   "outputs": [
    {
     "output_type": "execute_result",
     "data": {
      "text/plain": [
       "<matplotlib.collections.PathCollection at 0x26dc24802b0>"
      ]
     },
     "metadata": {},
     "execution_count": 96
    },
    {
     "output_type": "display_data",
     "data": {
      "text/plain": "<Figure size 432x288 with 1 Axes>",
      "image/svg+xml": "<?xml version=\"1.0\" encoding=\"utf-8\" standalone=\"no\"?>\r\n<!DOCTYPE svg PUBLIC \"-//W3C//DTD SVG 1.1//EN\"\r\n  \"http://www.w3.org/Graphics/SVG/1.1/DTD/svg11.dtd\">\r\n<!-- Created with matplotlib (https://matplotlib.org/) -->\r\n<svg height=\"248.518125pt\" version=\"1.1\" viewBox=\"0 0 398.75252 248.518125\" width=\"398.75252pt\" xmlns=\"http://www.w3.org/2000/svg\" xmlns:xlink=\"http://www.w3.org/1999/xlink\">\r\n <metadata>\r\n  <rdf:RDF xmlns:cc=\"http://creativecommons.org/ns#\" xmlns:dc=\"http://purl.org/dc/elements/1.1/\" xmlns:rdf=\"http://www.w3.org/1999/02/22-rdf-syntax-ns#\">\r\n   <cc:Work>\r\n    <dc:type rdf:resource=\"http://purl.org/dc/dcmitype/StillImage\"/>\r\n    <dc:date>2021-02-27T03:26:50.930959</dc:date>\r\n    <dc:format>image/svg+xml</dc:format>\r\n    <dc:creator>\r\n     <cc:Agent>\r\n      <dc:title>Matplotlib v3.3.4, https://matplotlib.org/</dc:title>\r\n     </cc:Agent>\r\n    </dc:creator>\r\n   </cc:Work>\r\n  </rdf:RDF>\r\n </metadata>\r\n <defs>\r\n  <style type=\"text/css\">*{stroke-linecap:butt;stroke-linejoin:round;}</style>\r\n </defs>\r\n <g id=\"figure_1\">\r\n  <g id=\"patch_1\">\r\n   <path d=\"M 0 248.518125 \r\nL 398.75252 248.518125 \r\nL 398.75252 0 \r\nL 0 0 \r\nz\r\n\" style=\"fill:none;\"/>\r\n  </g>\r\n  <g id=\"axes_1\">\r\n   <g id=\"patch_2\">\r\n    <path d=\"M 52.375 224.64 \r\nL 387.175 224.64 \r\nL 387.175 7.2 \r\nL 52.375 7.2 \r\nz\r\n\" style=\"fill:#ffffff;\"/>\r\n   </g>\r\n   <g id=\"PathCollection_1\">\r\n    <defs>\r\n     <path d=\"M 0 3 \r\nC 0.795609 3 1.55874 2.683901 2.12132 2.12132 \r\nC 2.683901 1.55874 3 0.795609 3 0 \r\nC 3 -0.795609 2.683901 -1.55874 2.12132 -2.12132 \r\nC 1.55874 -2.683901 0.795609 -3 0 -3 \r\nC -0.795609 -3 -1.55874 -2.683901 -2.12132 -2.12132 \r\nC -2.683901 -1.55874 -3 -0.795609 -3 0 \r\nC -3 0.795609 -2.683901 1.55874 -2.12132 2.12132 \r\nC -1.55874 2.683901 -0.795609 3 0 3 \r\nz\r\n\" id=\"ma538c63a95\" style=\"stroke:#1f77b4;\"/>\r\n    </defs>\r\n    <g clip-path=\"url(#p94114485fb)\">\r\n     <use style=\"fill:#1f77b4;stroke:#1f77b4;\" x=\"213.158399\" xlink:href=\"#ma538c63a95\" y=\"119.69238\"/>\r\n     <use style=\"fill:#1f77b4;stroke:#1f77b4;\" x=\"100.676186\" xlink:href=\"#ma538c63a95\" y=\"155.907231\"/>\r\n     <use style=\"fill:#1f77b4;stroke:#1f77b4;\" x=\"120.525988\" xlink:href=\"#ma538c63a95\" y=\"146.853518\"/>\r\n     <use style=\"fill:#1f77b4;stroke:#1f77b4;\" x=\"173.458794\" xlink:href=\"#ma538c63a95\" y=\"136.290854\"/>\r\n     <use style=\"fill:#1f77b4;stroke:#1f77b4;\" x=\"186.691996\" xlink:href=\"#ma538c63a95\" y=\"140.81771\"/>\r\n     <use style=\"fill:#1f77b4;stroke:#1f77b4;\" x=\"153.608992\" xlink:href=\"#ma538c63a95\" y=\"140.81771\"/>\r\n     <use style=\"fill:#1f77b4;stroke:#1f77b4;\" x=\"67.593182\" xlink:href=\"#ma538c63a95\" y=\"149.871423\"/>\r\n     <use style=\"fill:#1f77b4;stroke:#1f77b4;\" x=\"239.624802\" xlink:href=\"#ma538c63a95\" y=\"140.81771\"/>\r\n     <use style=\"fill:#1f77b4;stroke:#1f77b4;\" x=\"252.858004\" xlink:href=\"#ma538c63a95\" y=\"103.093907\"/>\r\n     <use style=\"fill:#1f77b4;stroke:#1f77b4;\" x=\"67.593182\" xlink:href=\"#ma538c63a95\" y=\"127.237141\"/>\r\n     <use style=\"fill:#1f77b4;stroke:#1f77b4;\" x=\"186.691996\" xlink:href=\"#ma538c63a95\" y=\"210.229507\"/>\r\n     <use style=\"fill:#1f77b4;stroke:#1f77b4;\" x=\"219.775\" xlink:href=\"#ma538c63a95\" y=\"62.3522\"/>\r\n     <use style=\"fill:#1f77b4;stroke:#1f77b4;\" x=\"371.956818\" xlink:href=\"#ma538c63a95\" y=\"140.81771\"/>\r\n     <use style=\"fill:#1f77b4;stroke:#1f77b4;\" x=\"352.107016\" xlink:href=\"#ma538c63a95\" y=\"47.262679\"/>\r\n     <use style=\"fill:#1f77b4;stroke:#1f77b4;\" x=\"67.593182\" xlink:href=\"#ma538c63a95\" y=\"210.229507\"/>\r\n     <use style=\"fill:#1f77b4;stroke:#1f77b4;\" x=\"67.593182\" xlink:href=\"#ma538c63a95\" y=\"140.81771\"/>\r\n     <use style=\"fill:#1f77b4;stroke:#1f77b4;\" x=\"67.593182\" xlink:href=\"#ma538c63a95\" y=\"140.81771\"/>\r\n     <use style=\"fill:#1f77b4;stroke:#1f77b4;\" x=\"67.593182\" xlink:href=\"#ma538c63a95\" y=\"110.638668\"/>\r\n     <use style=\"fill:#1f77b4;stroke:#1f77b4;\" x=\"67.593182\" xlink:href=\"#ma538c63a95\" y=\"103.093907\"/>\r\n     <use style=\"fill:#1f77b4;stroke:#1f77b4;\" x=\"67.593182\" xlink:href=\"#ma538c63a95\" y=\"125.728189\"/>\r\n     <use style=\"fill:#1f77b4;stroke:#1f77b4;\" x=\"67.593182\" xlink:href=\"#ma538c63a95\" y=\"210.229507\"/>\r\n     <use style=\"fill:#1f77b4;stroke:#1f77b4;\" x=\"67.593182\" xlink:href=\"#ma538c63a95\" y=\"211.738459\"/>\r\n     <use style=\"fill:#1f77b4;stroke:#1f77b4;\" x=\"67.593182\" xlink:href=\"#ma538c63a95\" y=\"17.083636\"/>\r\n     <use style=\"fill:#1f77b4;stroke:#1f77b4;\" x=\"67.593182\" xlink:href=\"#ma538c63a95\" y=\"207.211603\"/>\r\n     <use style=\"fill:#1f77b4;stroke:#1f77b4;\" x=\"67.593182\" xlink:href=\"#ma538c63a95\" y=\"140.81771\"/>\r\n     <use style=\"fill:#1f77b4;stroke:#1f77b4;\" x=\"67.593182\" xlink:href=\"#ma538c63a95\" y=\"145.344566\"/>\r\n     <use style=\"fill:#1f77b4;stroke:#1f77b4;\" x=\"67.593182\" xlink:href=\"#ma538c63a95\" y=\"109.129715\"/>\r\n     <use style=\"fill:#1f77b4;stroke:#1f77b4;\" x=\"67.593182\" xlink:href=\"#ma538c63a95\" y=\"95.549146\"/>\r\n     <use style=\"fill:#1f77b4;stroke:#1f77b4;\" x=\"67.593182\" xlink:href=\"#ma538c63a95\" y=\"140.81771\"/>\r\n     <use style=\"fill:#1f77b4;stroke:#1f77b4;\" x=\"67.593182\" xlink:href=\"#ma538c63a95\" y=\"62.3522\"/>\r\n     <use style=\"fill:#1f77b4;stroke:#1f77b4;\" x=\"67.593182\" xlink:href=\"#ma538c63a95\" y=\"208.720555\"/>\r\n     <use style=\"fill:#1f77b4;stroke:#1f77b4;\" x=\"67.593182\" xlink:href=\"#ma538c63a95\" y=\"47.262679\"/>\r\n     <use style=\"fill:#1f77b4;stroke:#1f77b4;\" x=\"67.593182\" xlink:href=\"#ma538c63a95\" y=\"210.229507\"/>\r\n     <use style=\"fill:#1f77b4;stroke:#1f77b4;\" x=\"67.593182\" xlink:href=\"#ma538c63a95\" y=\"140.81771\"/>\r\n     <use style=\"fill:#1f77b4;stroke:#1f77b4;\" x=\"67.593182\" xlink:href=\"#ma538c63a95\" y=\"142.326662\"/>\r\n     <use style=\"fill:#1f77b4;stroke:#1f77b4;\" x=\"67.593182\" xlink:href=\"#ma538c63a95\" y=\"109.129715\"/>\r\n     <use style=\"fill:#1f77b4;stroke:#1f77b4;\" x=\"67.593182\" xlink:href=\"#ma538c63a95\" y=\"140.81771\"/>\r\n     <use style=\"fill:#1f77b4;stroke:#1f77b4;\" x=\"67.593182\" xlink:href=\"#ma538c63a95\" y=\"127.237141\"/>\r\n     <use style=\"fill:#1f77b4;stroke:#1f77b4;\" x=\"67.593182\" xlink:href=\"#ma538c63a95\" y=\"210.229507\"/>\r\n     <use style=\"fill:#1f77b4;stroke:#1f77b4;\" x=\"67.593182\" xlink:href=\"#ma538c63a95\" y=\"208.720555\"/>\r\n     <use style=\"fill:#1f77b4;stroke:#1f77b4;\" x=\"67.593182\" xlink:href=\"#ma538c63a95\" y=\"62.3522\"/>\r\n     <use style=\"fill:#1f77b4;stroke:#1f77b4;\" x=\"67.593182\" xlink:href=\"#ma538c63a95\" y=\"208.720555\"/>\r\n     <use style=\"fill:#1f77b4;stroke:#1f77b4;\" x=\"67.593182\" xlink:href=\"#ma538c63a95\" y=\"47.262679\"/>\r\n     <use style=\"fill:#1f77b4;stroke:#1f77b4;\" x=\"67.593182\" xlink:href=\"#ma538c63a95\" y=\"213.247412\"/>\r\n     <use style=\"fill:#1f77b4;stroke:#1f77b4;\" x=\"67.593182\" xlink:href=\"#ma538c63a95\" y=\"140.81771\"/>\r\n     <use style=\"fill:#1f77b4;stroke:#1f77b4;\" x=\"67.593182\" xlink:href=\"#ma538c63a95\" y=\"149.871423\"/>\r\n     <use style=\"fill:#1f77b4;stroke:#1f77b4;\" x=\"67.593182\" xlink:href=\"#ma538c63a95\" y=\"214.756364\"/>\r\n     <use style=\"fill:#1f77b4;stroke:#1f77b4;\" x=\"67.593182\" xlink:href=\"#ma538c63a95\" y=\"100.076003\"/>\r\n     <use style=\"fill:#1f77b4;stroke:#1f77b4;\" x=\"67.593182\" xlink:href=\"#ma538c63a95\" y=\"125.728189\"/>\r\n    </g>\r\n   </g>\r\n   <g id=\"matplotlib.axis_1\">\r\n    <g id=\"xtick_1\">\r\n     <g id=\"line2d_1\">\r\n      <defs>\r\n       <path d=\"M 0 0 \r\nL 0 3.5 \r\n\" id=\"m8257355ee4\" style=\"stroke:#000000;stroke-width:0.8;\"/>\r\n      </defs>\r\n      <g>\r\n       <use style=\"stroke:#000000;stroke-width:0.8;\" x=\"54.35998\" xlink:href=\"#m8257355ee4\" y=\"224.64\"/>\r\n      </g>\r\n     </g>\r\n     <g id=\"text_1\">\r\n      <!-- 20 -->\r\n      <g transform=\"translate(47.99748 239.238437)scale(0.1 -0.1)\">\r\n       <defs>\r\n        <path d=\"M 19.1875 8.296875 \r\nL 53.609375 8.296875 \r\nL 53.609375 0 \r\nL 7.328125 0 \r\nL 7.328125 8.296875 \r\nQ 12.9375 14.109375 22.625 23.890625 \r\nQ 32.328125 33.6875 34.8125 36.53125 \r\nQ 39.546875 41.84375 41.421875 45.53125 \r\nQ 43.3125 49.21875 43.3125 52.78125 \r\nQ 43.3125 58.59375 39.234375 62.25 \r\nQ 35.15625 65.921875 28.609375 65.921875 \r\nQ 23.96875 65.921875 18.8125 64.3125 \r\nQ 13.671875 62.703125 7.8125 59.421875 \r\nL 7.8125 69.390625 \r\nQ 13.765625 71.78125 18.9375 73 \r\nQ 24.125 74.21875 28.421875 74.21875 \r\nQ 39.75 74.21875 46.484375 68.546875 \r\nQ 53.21875 62.890625 53.21875 53.421875 \r\nQ 53.21875 48.921875 51.53125 44.890625 \r\nQ 49.859375 40.875 45.40625 35.40625 \r\nQ 44.1875 33.984375 37.640625 27.21875 \r\nQ 31.109375 20.453125 19.1875 8.296875 \r\nz\r\n\" id=\"DejaVuSans-50\"/>\r\n        <path d=\"M 31.78125 66.40625 \r\nQ 24.171875 66.40625 20.328125 58.90625 \r\nQ 16.5 51.421875 16.5 36.375 \r\nQ 16.5 21.390625 20.328125 13.890625 \r\nQ 24.171875 6.390625 31.78125 6.390625 \r\nQ 39.453125 6.390625 43.28125 13.890625 \r\nQ 47.125 21.390625 47.125 36.375 \r\nQ 47.125 51.421875 43.28125 58.90625 \r\nQ 39.453125 66.40625 31.78125 66.40625 \r\nz\r\nM 31.78125 74.21875 \r\nQ 44.046875 74.21875 50.515625 64.515625 \r\nQ 56.984375 54.828125 56.984375 36.375 \r\nQ 56.984375 17.96875 50.515625 8.265625 \r\nQ 44.046875 -1.421875 31.78125 -1.421875 \r\nQ 19.53125 -1.421875 13.0625 8.265625 \r\nQ 6.59375 17.96875 6.59375 36.375 \r\nQ 6.59375 54.828125 13.0625 64.515625 \r\nQ 19.53125 74.21875 31.78125 74.21875 \r\nz\r\n\" id=\"DejaVuSans-48\"/>\r\n       </defs>\r\n       <use xlink:href=\"#DejaVuSans-50\"/>\r\n       <use x=\"63.623047\" xlink:href=\"#DejaVuSans-48\"/>\r\n      </g>\r\n     </g>\r\n    </g>\r\n    <g id=\"xtick_2\">\r\n     <g id=\"line2d_2\">\r\n      <g>\r\n       <use style=\"stroke:#000000;stroke-width:0.8;\" x=\"120.525988\" xlink:href=\"#m8257355ee4\" y=\"224.64\"/>\r\n      </g>\r\n     </g>\r\n     <g id=\"text_2\">\r\n      <!-- 30 -->\r\n      <g transform=\"translate(114.163488 239.238437)scale(0.1 -0.1)\">\r\n       <defs>\r\n        <path d=\"M 40.578125 39.3125 \r\nQ 47.65625 37.796875 51.625 33 \r\nQ 55.609375 28.21875 55.609375 21.1875 \r\nQ 55.609375 10.40625 48.1875 4.484375 \r\nQ 40.765625 -1.421875 27.09375 -1.421875 \r\nQ 22.515625 -1.421875 17.65625 -0.515625 \r\nQ 12.796875 0.390625 7.625 2.203125 \r\nL 7.625 11.71875 \r\nQ 11.71875 9.328125 16.59375 8.109375 \r\nQ 21.484375 6.890625 26.8125 6.890625 \r\nQ 36.078125 6.890625 40.9375 10.546875 \r\nQ 45.796875 14.203125 45.796875 21.1875 \r\nQ 45.796875 27.640625 41.28125 31.265625 \r\nQ 36.765625 34.90625 28.71875 34.90625 \r\nL 20.21875 34.90625 \r\nL 20.21875 43.015625 \r\nL 29.109375 43.015625 \r\nQ 36.375 43.015625 40.234375 45.921875 \r\nQ 44.09375 48.828125 44.09375 54.296875 \r\nQ 44.09375 59.90625 40.109375 62.90625 \r\nQ 36.140625 65.921875 28.71875 65.921875 \r\nQ 24.65625 65.921875 20.015625 65.03125 \r\nQ 15.375 64.15625 9.8125 62.3125 \r\nL 9.8125 71.09375 \r\nQ 15.4375 72.65625 20.34375 73.4375 \r\nQ 25.25 74.21875 29.59375 74.21875 \r\nQ 40.828125 74.21875 47.359375 69.109375 \r\nQ 53.90625 64.015625 53.90625 55.328125 \r\nQ 53.90625 49.265625 50.4375 45.09375 \r\nQ 46.96875 40.921875 40.578125 39.3125 \r\nz\r\n\" id=\"DejaVuSans-51\"/>\r\n       </defs>\r\n       <use xlink:href=\"#DejaVuSans-51\"/>\r\n       <use x=\"63.623047\" xlink:href=\"#DejaVuSans-48\"/>\r\n      </g>\r\n     </g>\r\n    </g>\r\n    <g id=\"xtick_3\">\r\n     <g id=\"line2d_3\">\r\n      <g>\r\n       <use style=\"stroke:#000000;stroke-width:0.8;\" x=\"186.691996\" xlink:href=\"#m8257355ee4\" y=\"224.64\"/>\r\n      </g>\r\n     </g>\r\n     <g id=\"text_3\">\r\n      <!-- 40 -->\r\n      <g transform=\"translate(180.329496 239.238437)scale(0.1 -0.1)\">\r\n       <defs>\r\n        <path d=\"M 37.796875 64.3125 \r\nL 12.890625 25.390625 \r\nL 37.796875 25.390625 \r\nz\r\nM 35.203125 72.90625 \r\nL 47.609375 72.90625 \r\nL 47.609375 25.390625 \r\nL 58.015625 25.390625 \r\nL 58.015625 17.1875 \r\nL 47.609375 17.1875 \r\nL 47.609375 0 \r\nL 37.796875 0 \r\nL 37.796875 17.1875 \r\nL 4.890625 17.1875 \r\nL 4.890625 26.703125 \r\nz\r\n\" id=\"DejaVuSans-52\"/>\r\n       </defs>\r\n       <use xlink:href=\"#DejaVuSans-52\"/>\r\n       <use x=\"63.623047\" xlink:href=\"#DejaVuSans-48\"/>\r\n      </g>\r\n     </g>\r\n    </g>\r\n    <g id=\"xtick_4\">\r\n     <g id=\"line2d_4\">\r\n      <g>\r\n       <use style=\"stroke:#000000;stroke-width:0.8;\" x=\"252.858004\" xlink:href=\"#m8257355ee4\" y=\"224.64\"/>\r\n      </g>\r\n     </g>\r\n     <g id=\"text_4\">\r\n      <!-- 50 -->\r\n      <g transform=\"translate(246.495504 239.238437)scale(0.1 -0.1)\">\r\n       <defs>\r\n        <path d=\"M 10.796875 72.90625 \r\nL 49.515625 72.90625 \r\nL 49.515625 64.59375 \r\nL 19.828125 64.59375 \r\nL 19.828125 46.734375 \r\nQ 21.96875 47.46875 24.109375 47.828125 \r\nQ 26.265625 48.1875 28.421875 48.1875 \r\nQ 40.625 48.1875 47.75 41.5 \r\nQ 54.890625 34.8125 54.890625 23.390625 \r\nQ 54.890625 11.625 47.5625 5.09375 \r\nQ 40.234375 -1.421875 26.90625 -1.421875 \r\nQ 22.3125 -1.421875 17.546875 -0.640625 \r\nQ 12.796875 0.140625 7.71875 1.703125 \r\nL 7.71875 11.625 \r\nQ 12.109375 9.234375 16.796875 8.0625 \r\nQ 21.484375 6.890625 26.703125 6.890625 \r\nQ 35.15625 6.890625 40.078125 11.328125 \r\nQ 45.015625 15.765625 45.015625 23.390625 \r\nQ 45.015625 31 40.078125 35.4375 \r\nQ 35.15625 39.890625 26.703125 39.890625 \r\nQ 22.75 39.890625 18.8125 39.015625 \r\nQ 14.890625 38.140625 10.796875 36.28125 \r\nz\r\n\" id=\"DejaVuSans-53\"/>\r\n       </defs>\r\n       <use xlink:href=\"#DejaVuSans-53\"/>\r\n       <use x=\"63.623047\" xlink:href=\"#DejaVuSans-48\"/>\r\n      </g>\r\n     </g>\r\n    </g>\r\n    <g id=\"xtick_5\">\r\n     <g id=\"line2d_5\">\r\n      <g>\r\n       <use style=\"stroke:#000000;stroke-width:0.8;\" x=\"319.024012\" xlink:href=\"#m8257355ee4\" y=\"224.64\"/>\r\n      </g>\r\n     </g>\r\n     <g id=\"text_5\">\r\n      <!-- 60 -->\r\n      <g transform=\"translate(312.661512 239.238437)scale(0.1 -0.1)\">\r\n       <defs>\r\n        <path d=\"M 33.015625 40.375 \r\nQ 26.375 40.375 22.484375 35.828125 \r\nQ 18.609375 31.296875 18.609375 23.390625 \r\nQ 18.609375 15.53125 22.484375 10.953125 \r\nQ 26.375 6.390625 33.015625 6.390625 \r\nQ 39.65625 6.390625 43.53125 10.953125 \r\nQ 47.40625 15.53125 47.40625 23.390625 \r\nQ 47.40625 31.296875 43.53125 35.828125 \r\nQ 39.65625 40.375 33.015625 40.375 \r\nz\r\nM 52.59375 71.296875 \r\nL 52.59375 62.3125 \r\nQ 48.875 64.0625 45.09375 64.984375 \r\nQ 41.3125 65.921875 37.59375 65.921875 \r\nQ 27.828125 65.921875 22.671875 59.328125 \r\nQ 17.53125 52.734375 16.796875 39.40625 \r\nQ 19.671875 43.65625 24.015625 45.921875 \r\nQ 28.375 48.1875 33.59375 48.1875 \r\nQ 44.578125 48.1875 50.953125 41.515625 \r\nQ 57.328125 34.859375 57.328125 23.390625 \r\nQ 57.328125 12.15625 50.6875 5.359375 \r\nQ 44.046875 -1.421875 33.015625 -1.421875 \r\nQ 20.359375 -1.421875 13.671875 8.265625 \r\nQ 6.984375 17.96875 6.984375 36.375 \r\nQ 6.984375 53.65625 15.1875 63.9375 \r\nQ 23.390625 74.21875 37.203125 74.21875 \r\nQ 40.921875 74.21875 44.703125 73.484375 \r\nQ 48.484375 72.75 52.59375 71.296875 \r\nz\r\n\" id=\"DejaVuSans-54\"/>\r\n       </defs>\r\n       <use xlink:href=\"#DejaVuSans-54\"/>\r\n       <use x=\"63.623047\" xlink:href=\"#DejaVuSans-48\"/>\r\n      </g>\r\n     </g>\r\n    </g>\r\n    <g id=\"xtick_6\">\r\n     <g id=\"line2d_6\">\r\n      <g>\r\n       <use style=\"stroke:#000000;stroke-width:0.8;\" x=\"385.19002\" xlink:href=\"#m8257355ee4\" y=\"224.64\"/>\r\n      </g>\r\n     </g>\r\n     <g id=\"text_6\">\r\n      <!-- 70 -->\r\n      <g transform=\"translate(378.82752 239.238437)scale(0.1 -0.1)\">\r\n       <defs>\r\n        <path d=\"M 8.203125 72.90625 \r\nL 55.078125 72.90625 \r\nL 55.078125 68.703125 \r\nL 28.609375 0 \r\nL 18.3125 0 \r\nL 43.21875 64.59375 \r\nL 8.203125 64.59375 \r\nz\r\n\" id=\"DejaVuSans-55\"/>\r\n       </defs>\r\n       <use xlink:href=\"#DejaVuSans-55\"/>\r\n       <use x=\"63.623047\" xlink:href=\"#DejaVuSans-48\"/>\r\n      </g>\r\n     </g>\r\n    </g>\r\n   </g>\r\n   <g id=\"matplotlib.axis_2\">\r\n    <g id=\"ytick_1\">\r\n     <g id=\"line2d_7\">\r\n      <defs>\r\n       <path d=\"M 0 0 \r\nL -3.5 0 \r\n\" id=\"me142e79eea\" style=\"stroke:#000000;stroke-width:0.8;\"/>\r\n      </defs>\r\n      <g>\r\n       <use style=\"stroke:#000000;stroke-width:0.8;\" x=\"52.375\" xlink:href=\"#me142e79eea\" y=\"198.15789\"/>\r\n      </g>\r\n     </g>\r\n     <g id=\"text_7\">\r\n      <!-- 20000 -->\r\n      <g transform=\"translate(13.5625 201.957109)scale(0.1 -0.1)\">\r\n       <use xlink:href=\"#DejaVuSans-50\"/>\r\n       <use x=\"63.623047\" xlink:href=\"#DejaVuSans-48\"/>\r\n       <use x=\"127.246094\" xlink:href=\"#DejaVuSans-48\"/>\r\n       <use x=\"190.869141\" xlink:href=\"#DejaVuSans-48\"/>\r\n       <use x=\"254.492188\" xlink:href=\"#DejaVuSans-48\"/>\r\n      </g>\r\n     </g>\r\n    </g>\r\n    <g id=\"ytick_2\">\r\n     <g id=\"line2d_8\">\r\n      <g>\r\n       <use style=\"stroke:#000000;stroke-width:0.8;\" x=\"52.375\" xlink:href=\"#me142e79eea\" y=\"167.978848\"/>\r\n      </g>\r\n     </g>\r\n     <g id=\"text_8\">\r\n      <!-- 40000 -->\r\n      <g transform=\"translate(13.5625 171.778067)scale(0.1 -0.1)\">\r\n       <use xlink:href=\"#DejaVuSans-52\"/>\r\n       <use x=\"63.623047\" xlink:href=\"#DejaVuSans-48\"/>\r\n       <use x=\"127.246094\" xlink:href=\"#DejaVuSans-48\"/>\r\n       <use x=\"190.869141\" xlink:href=\"#DejaVuSans-48\"/>\r\n       <use x=\"254.492188\" xlink:href=\"#DejaVuSans-48\"/>\r\n      </g>\r\n     </g>\r\n    </g>\r\n    <g id=\"ytick_3\">\r\n     <g id=\"line2d_9\">\r\n      <g>\r\n       <use style=\"stroke:#000000;stroke-width:0.8;\" x=\"52.375\" xlink:href=\"#me142e79eea\" y=\"137.799806\"/>\r\n      </g>\r\n     </g>\r\n     <g id=\"text_9\">\r\n      <!-- 60000 -->\r\n      <g transform=\"translate(13.5625 141.599024)scale(0.1 -0.1)\">\r\n       <use xlink:href=\"#DejaVuSans-54\"/>\r\n       <use x=\"63.623047\" xlink:href=\"#DejaVuSans-48\"/>\r\n       <use x=\"127.246094\" xlink:href=\"#DejaVuSans-48\"/>\r\n       <use x=\"190.869141\" xlink:href=\"#DejaVuSans-48\"/>\r\n       <use x=\"254.492188\" xlink:href=\"#DejaVuSans-48\"/>\r\n      </g>\r\n     </g>\r\n    </g>\r\n    <g id=\"ytick_4\">\r\n     <g id=\"line2d_10\">\r\n      <g>\r\n       <use style=\"stroke:#000000;stroke-width:0.8;\" x=\"52.375\" xlink:href=\"#me142e79eea\" y=\"107.620763\"/>\r\n      </g>\r\n     </g>\r\n     <g id=\"text_10\">\r\n      <!-- 80000 -->\r\n      <g transform=\"translate(13.5625 111.419982)scale(0.1 -0.1)\">\r\n       <defs>\r\n        <path d=\"M 31.78125 34.625 \r\nQ 24.75 34.625 20.71875 30.859375 \r\nQ 16.703125 27.09375 16.703125 20.515625 \r\nQ 16.703125 13.921875 20.71875 10.15625 \r\nQ 24.75 6.390625 31.78125 6.390625 \r\nQ 38.8125 6.390625 42.859375 10.171875 \r\nQ 46.921875 13.96875 46.921875 20.515625 \r\nQ 46.921875 27.09375 42.890625 30.859375 \r\nQ 38.875 34.625 31.78125 34.625 \r\nz\r\nM 21.921875 38.8125 \r\nQ 15.578125 40.375 12.03125 44.71875 \r\nQ 8.5 49.078125 8.5 55.328125 \r\nQ 8.5 64.0625 14.71875 69.140625 \r\nQ 20.953125 74.21875 31.78125 74.21875 \r\nQ 42.671875 74.21875 48.875 69.140625 \r\nQ 55.078125 64.0625 55.078125 55.328125 \r\nQ 55.078125 49.078125 51.53125 44.71875 \r\nQ 48 40.375 41.703125 38.8125 \r\nQ 48.828125 37.15625 52.796875 32.3125 \r\nQ 56.78125 27.484375 56.78125 20.515625 \r\nQ 56.78125 9.90625 50.3125 4.234375 \r\nQ 43.84375 -1.421875 31.78125 -1.421875 \r\nQ 19.734375 -1.421875 13.25 4.234375 \r\nQ 6.78125 9.90625 6.78125 20.515625 \r\nQ 6.78125 27.484375 10.78125 32.3125 \r\nQ 14.796875 37.15625 21.921875 38.8125 \r\nz\r\nM 18.3125 54.390625 \r\nQ 18.3125 48.734375 21.84375 45.5625 \r\nQ 25.390625 42.390625 31.78125 42.390625 \r\nQ 38.140625 42.390625 41.71875 45.5625 \r\nQ 45.3125 48.734375 45.3125 54.390625 \r\nQ 45.3125 60.0625 41.71875 63.234375 \r\nQ 38.140625 66.40625 31.78125 66.40625 \r\nQ 25.390625 66.40625 21.84375 63.234375 \r\nQ 18.3125 60.0625 18.3125 54.390625 \r\nz\r\n\" id=\"DejaVuSans-56\"/>\r\n       </defs>\r\n       <use xlink:href=\"#DejaVuSans-56\"/>\r\n       <use x=\"63.623047\" xlink:href=\"#DejaVuSans-48\"/>\r\n       <use x=\"127.246094\" xlink:href=\"#DejaVuSans-48\"/>\r\n       <use x=\"190.869141\" xlink:href=\"#DejaVuSans-48\"/>\r\n       <use x=\"254.492188\" xlink:href=\"#DejaVuSans-48\"/>\r\n      </g>\r\n     </g>\r\n    </g>\r\n    <g id=\"ytick_5\">\r\n     <g id=\"line2d_11\">\r\n      <g>\r\n       <use style=\"stroke:#000000;stroke-width:0.8;\" x=\"52.375\" xlink:href=\"#me142e79eea\" y=\"77.441721\"/>\r\n      </g>\r\n     </g>\r\n     <g id=\"text_11\">\r\n      <!-- 100000 -->\r\n      <g transform=\"translate(7.2 81.24094)scale(0.1 -0.1)\">\r\n       <defs>\r\n        <path d=\"M 12.40625 8.296875 \r\nL 28.515625 8.296875 \r\nL 28.515625 63.921875 \r\nL 10.984375 60.40625 \r\nL 10.984375 69.390625 \r\nL 28.421875 72.90625 \r\nL 38.28125 72.90625 \r\nL 38.28125 8.296875 \r\nL 54.390625 8.296875 \r\nL 54.390625 0 \r\nL 12.40625 0 \r\nz\r\n\" id=\"DejaVuSans-49\"/>\r\n       </defs>\r\n       <use xlink:href=\"#DejaVuSans-49\"/>\r\n       <use x=\"63.623047\" xlink:href=\"#DejaVuSans-48\"/>\r\n       <use x=\"127.246094\" xlink:href=\"#DejaVuSans-48\"/>\r\n       <use x=\"190.869141\" xlink:href=\"#DejaVuSans-48\"/>\r\n       <use x=\"254.492188\" xlink:href=\"#DejaVuSans-48\"/>\r\n       <use x=\"318.115234\" xlink:href=\"#DejaVuSans-48\"/>\r\n      </g>\r\n     </g>\r\n    </g>\r\n    <g id=\"ytick_6\">\r\n     <g id=\"line2d_12\">\r\n      <g>\r\n       <use style=\"stroke:#000000;stroke-width:0.8;\" x=\"52.375\" xlink:href=\"#me142e79eea\" y=\"47.262679\"/>\r\n      </g>\r\n     </g>\r\n     <g id=\"text_12\">\r\n      <!-- 120000 -->\r\n      <g transform=\"translate(7.2 51.061897)scale(0.1 -0.1)\">\r\n       <use xlink:href=\"#DejaVuSans-49\"/>\r\n       <use x=\"63.623047\" xlink:href=\"#DejaVuSans-50\"/>\r\n       <use x=\"127.246094\" xlink:href=\"#DejaVuSans-48\"/>\r\n       <use x=\"190.869141\" xlink:href=\"#DejaVuSans-48\"/>\r\n       <use x=\"254.492188\" xlink:href=\"#DejaVuSans-48\"/>\r\n       <use x=\"318.115234\" xlink:href=\"#DejaVuSans-48\"/>\r\n      </g>\r\n     </g>\r\n    </g>\r\n    <g id=\"ytick_7\">\r\n     <g id=\"line2d_13\">\r\n      <g>\r\n       <use style=\"stroke:#000000;stroke-width:0.8;\" x=\"52.375\" xlink:href=\"#me142e79eea\" y=\"17.083636\"/>\r\n      </g>\r\n     </g>\r\n     <g id=\"text_13\">\r\n      <!-- 140000 -->\r\n      <g transform=\"translate(7.2 20.882855)scale(0.1 -0.1)\">\r\n       <use xlink:href=\"#DejaVuSans-49\"/>\r\n       <use x=\"63.623047\" xlink:href=\"#DejaVuSans-52\"/>\r\n       <use x=\"127.246094\" xlink:href=\"#DejaVuSans-48\"/>\r\n       <use x=\"190.869141\" xlink:href=\"#DejaVuSans-48\"/>\r\n       <use x=\"254.492188\" xlink:href=\"#DejaVuSans-48\"/>\r\n       <use x=\"318.115234\" xlink:href=\"#DejaVuSans-48\"/>\r\n      </g>\r\n     </g>\r\n    </g>\r\n   </g>\r\n   <g id=\"patch_3\">\r\n    <path d=\"M 52.375 224.64 \r\nL 52.375 7.2 \r\n\" style=\"fill:none;stroke:#000000;stroke-linecap:square;stroke-linejoin:miter;stroke-width:0.8;\"/>\r\n   </g>\r\n   <g id=\"patch_4\">\r\n    <path d=\"M 387.175 224.64 \r\nL 387.175 7.2 \r\n\" style=\"fill:none;stroke:#000000;stroke-linecap:square;stroke-linejoin:miter;stroke-width:0.8;\"/>\r\n   </g>\r\n   <g id=\"patch_5\">\r\n    <path d=\"M 52.375 224.64 \r\nL 387.175 224.64 \r\n\" style=\"fill:none;stroke:#000000;stroke-linecap:square;stroke-linejoin:miter;stroke-width:0.8;\"/>\r\n   </g>\r\n   <g id=\"patch_6\">\r\n    <path d=\"M 52.375 7.2 \r\nL 387.175 7.2 \r\n\" style=\"fill:none;stroke:#000000;stroke-linecap:square;stroke-linejoin:miter;stroke-width:0.8;\"/>\r\n   </g>\r\n  </g>\r\n </g>\r\n <defs>\r\n  <clipPath id=\"p94114485fb\">\r\n   <rect height=\"217.44\" width=\"334.8\" x=\"52.375\" y=\"7.2\"/>\r\n  </clipPath>\r\n </defs>\r\n</svg>\r\n",
      "image/png": "[encoded data removed]"
     },
     "metadata": {
      "needs_background": "light"
     }
    }
   ],
   "source": [
    "plt.scatter('Age','Salary',data=mediandata)"
   ]
  },
  {
   "source": [],
   "cell_type": "markdown",
   "metadata": {}
  },
  {
   "cell_type": "code",
   "execution_count": 97,
   "metadata": {},
   "outputs": [
    {
     "output_type": "execute_result",
     "data": {
      "text/plain": [
       "    Country   Age    Salary Purchased\n",
       "0    France  44.0   72000.0        No\n",
       "1     Spain  27.0   48000.0       Yes\n",
       "2   Germany  30.0   54000.0       Yes\n",
       "3     Spain  38.0   61000.0        No\n",
       "4   Germany  40.0   58000.0       Yes\n",
       "5    France  35.0   58000.0       Yes\n",
       "6     Spain  22.0   52000.0        No\n",
       "7    France  48.0   58000.0       Yes\n",
       "8   Germany  50.0   83000.0        No\n",
       "9    France  22.0   67000.0       Yes\n",
       "10    India  40.0   12000.0        No\n",
       "11    Spain  45.0  110000.0       Yes\n",
       "12   France  68.0   58000.0        No\n",
       "13    India  65.0  120000.0        No\n",
       "14    India  22.0   12000.0       Yes\n",
       "15    Spain  22.0   58000.0        No\n",
       "16  Germany  22.0   58000.0       Yes\n",
       "17    Spain  22.0   78000.0       Yes\n",
       "18  Germany  22.0   83000.0       Yes\n",
       "19   France  22.0   68000.0        No\n",
       "20    Spain  22.0   12000.0       Yes\n",
       "21   France  22.0   11000.0        No\n",
       "22  Germany  22.0  140000.0        No\n",
       "23   France  22.0   14000.0       Yes\n",
       "24    India  22.0   58000.0        No\n",
       "25    India  22.0   55000.0       Yes\n",
       "26    Spain  22.0   79000.0       Yes\n",
       "27  Germany  22.0   88000.0       Yes\n",
       "28    Spain  22.0   58000.0        No\n",
       "29  Germany  22.0  110000.0       Yes\n",
       "30   France  22.0   13000.0        No\n",
       "31    Spain  22.0  120000.0       Yes\n",
       "32   France  22.0   12000.0       Yes\n",
       "33  Germany  22.0   58000.0       Yes\n",
       "34    India  22.0   57000.0       Yes\n",
       "35    Spain  22.0   79000.0        No\n",
       "36  Germany  22.0   58000.0       Yes\n",
       "37   France  22.0   67000.0       Yes\n",
       "38    India  22.0   12000.0       Yes\n",
       "39    India  22.0   13000.0        No\n",
       "40    Spain  22.0  110000.0       Yes\n",
       "41  Germany  22.0   13000.0        No\n",
       "42    Spain  22.0  120000.0       Yes\n",
       "43  Germany  22.0   10000.0        No\n",
       "44   France  22.0   58000.0       Yes\n",
       "45    Spain  22.0   52000.0        No\n",
       "46   France  22.0    9000.0       Yes\n",
       "47   France  22.0   85000.0       Yes\n",
       "48    Spain  22.0   68000.0        No"
      ],
      "text/html": "<div>\n<style scoped>\n    .dataframe tbody tr th:only-of-type {\n        vertical-align: middle;\n    }\n\n    .dataframe tbody tr th {\n        vertical-align: top;\n    }\n\n    .dataframe thead th {\n        text-align: right;\n    }\n</style>\n<table border=\"1\" class=\"dataframe\">\n  <thead>\n    <tr style=\"text-align: right;\">\n      <th></th>\n      <th>Country</th>\n      <th>Age</th>\n      <th>Salary</th>\n      <th>Purchased</th>\n    </tr>\n  </thead>\n  <tbody>\n    <tr>\n      <th>0</th>\n      <td>France</td>\n      <td>44.0</td>\n      <td>72000.0</td>\n      <td>No</td>\n    </tr>\n    <tr>\n      <th>1</th>\n      <td>Spain</td>\n      <td>27.0</td>\n      <td>48000.0</td>\n      <td>Yes</td>\n    </tr>\n    <tr>\n      <th>2</th>\n      <td>Germany</td>\n      <td>30.0</td>\n      <td>54000.0</td>\n      <td>Yes</td>\n    </tr>\n    <tr>\n      <th>3</th>\n      <td>Spain</td>\n      <td>38.0</td>\n      <td>61000.0</td>\n      <td>No</td>\n    </tr>\n    <tr>\n      <th>4</th>\n      <td>Germany</td>\n      <td>40.0</td>\n      <td>58000.0</td>\n      <td>Yes</td>\n    </tr>\n    <tr>\n      <th>5</th>\n      <td>France</td>\n      <td>35.0</td>\n      <td>58000.0</td>\n      <td>Yes</td>\n    </tr>\n    <tr>\n      <th>6</th>\n      <td>Spain</td>\n      <td>22.0</td>\n      <td>52000.0</td>\n      <td>No</td>\n    </tr>\n    <tr>\n      <th>7</th>\n      <td>France</td>\n      <td>48.0</td>\n      <td>58000.0</td>\n      <td>Yes</td>\n    </tr>\n    <tr>\n      <th>8</th>\n      <td>Germany</td>\n      <td>50.0</td>\n      <td>83000.0</td>\n      <td>No</td>\n    </tr>\n    <tr>\n      <th>9</th>\n      <td>France</td>\n      <td>22.0</td>\n      <td>67000.0</td>\n      <td>Yes</td>\n    </tr>\n    <tr>\n      <th>10</th>\n      <td>India</td>\n      <td>40.0</td>\n      <td>12000.0</td>\n      <td>No</td>\n    </tr>\n    <tr>\n      <th>11</th>\n      <td>Spain</td>\n      <td>45.0</td>\n      <td>110000.0</td>\n      <td>Yes</td>\n    </tr>\n    <tr>\n      <th>12</th>\n      <td>France</td>\n      <td>68.0</td>\n      <td>58000.0</td>\n      <td>No</td>\n    </tr>\n    <tr>\n      <th>13</th>\n      <td>India</td>\n      <td>65.0</td>\n      <td>120000.0</td>\n      <td>No</td>\n    </tr>\n    <tr>\n      <th>14</th>\n      <td>India</td>\n      <td>22.0</td>\n      <td>12000.0</td>\n      <td>Yes</td>\n    </tr>\n    <tr>\n      <th>15</th>\n      <td>Spain</td>\n      <td>22.0</td>\n      <td>58000.0</td>\n      <td>No</td>\n    </tr>\n    <tr>\n      <th>16</th>\n      <td>Germany</td>\n      <td>22.0</td>\n      <td>58000.0</td>\n      <td>Yes</td>\n    </tr>\n    <tr>\n      <th>17</th>\n      <td>Spain</td>\n      <td>22.0</td>\n      <td>78000.0</td>\n      <td>Yes</td>\n    </tr>\n    <tr>\n      <th>18</th>\n      <td>Germany</td>\n      <td>22.0</td>\n      <td>83000.0</td>\n      <td>Yes</td>\n    </tr>\n    <tr>\n      <th>19</th>\n      <td>France</td>\n      <td>22.0</td>\n      <td>68000.0</td>\n      <td>No</td>\n    </tr>\n    <tr>\n      <th>20</th>\n      <td>Spain</td>\n      <td>22.0</td>\n      <td>12000.0</td>\n      <td>Yes</td>\n    </tr>\n    <tr>\n      <th>21</th>\n      <td>France</td>\n      <td>22.0</td>\n      <td>11000.0</td>\n      <td>No</td>\n    </tr>\n    <tr>\n      <th>22</th>\n      <td>Germany</td>\n      <td>22.0</td>\n      <td>140000.0</td>\n      <td>No</td>\n    </tr>\n    <tr>\n      <th>23</th>\n      <td>France</td>\n      <td>22.0</td>\n      <td>14000.0</td>\n      <td>Yes</td>\n    </tr>\n    <tr>\n      <th>24</th>\n      <td>India</td>\n      <td>22.0</td>\n      <td>58000.0</td>\n      <td>No</td>\n    </tr>\n    <tr>\n      <th>25</th>\n      <td>India</td>\n      <td>22.0</td>\n      <td>55000.0</td>\n      <td>Yes</td>\n    </tr>\n    <tr>\n      <th>26</th>\n      <td>Spain</td>\n      <td>22.0</td>\n      <td>79000.0</td>\n      <td>Yes</td>\n    </tr>\n    <tr>\n      <th>27</th>\n      <td>Germany</td>\n      <td>22.0</td>\n      <td>88000.0</td>\n      <td>Yes</td>\n    </tr>\n    <tr>\n      <th>28</th>\n      <td>Spain</td>\n      <td>22.0</td>\n      <td>58000.0</td>\n      <td>No</td>\n    </tr>\n    <tr>\n      <th>29</th>\n      <td>Germany</td>\n      <td>22.0</td>\n      <td>110000.0</td>\n      <td>Yes</td>\n    </tr>\n    <tr>\n      <th>30</th>\n      <td>France</td>\n      <td>22.0</td>\n      <td>13000.0</td>\n      <td>No</td>\n    </tr>\n    <tr>\n      <th>31</th>\n      <td>Spain</td>\n      <td>22.0</td>\n      <td>120000.0</td>\n      <td>Yes</td>\n    </tr>\n    <tr>\n      <th>32</th>\n      <td>France</td>\n      <td>22.0</td>\n      <td>12000.0</td>\n      <td>Yes</td>\n    </tr>\n    <tr>\n      <th>33</th>\n      <td>Germany</td>\n      <td>22.0</td>\n      <td>58000.0</td>\n      <td>Yes</td>\n    </tr>\n    <tr>\n      <th>34</th>\n      <td>India</td>\n      <td>22.0</td>\n      <td>57000.0</td>\n      <td>Yes</td>\n    </tr>\n    <tr>\n      <th>35</th>\n      <td>Spain</td>\n      <td>22.0</td>\n      <td>79000.0</td>\n      <td>No</td>\n    </tr>\n    <tr>\n      <th>36</th>\n      <td>Germany</td>\n      <td>22.0</td>\n      <td>58000.0</td>\n      <td>Yes</td>\n    </tr>\n    <tr>\n      <th>37</th>\n      <td>France</td>\n      <td>22.0</td>\n      <td>67000.0</td>\n      <td>Yes</td>\n    </tr>\n    <tr>\n      <th>38</th>\n      <td>India</td>\n      <td>22.0</td>\n      <td>12000.0</td>\n      <td>Yes</td>\n    </tr>\n    <tr>\n      <th>39</th>\n      <td>India</td>\n      <td>22.0</td>\n      <td>13000.0</td>\n      <td>No</td>\n    </tr>\n    <tr>\n      <th>40</th>\n      <td>Spain</td>\n      <td>22.0</td>\n      <td>110000.0</td>\n      <td>Yes</td>\n    </tr>\n    <tr>\n      <th>41</th>\n      <td>Germany</td>\n      <td>22.0</td>\n      <td>13000.0</td>\n      <td>No</td>\n    </tr>\n    <tr>\n      <th>42</th>\n      <td>Spain</td>\n      <td>22.0</td>\n      <td>120000.0</td>\n      <td>Yes</td>\n    </tr>\n    <tr>\n      <th>43</th>\n      <td>Germany</td>\n      <td>22.0</td>\n      <td>10000.0</td>\n      <td>No</td>\n    </tr>\n    <tr>\n      <th>44</th>\n      <td>France</td>\n      <td>22.0</td>\n      <td>58000.0</td>\n      <td>Yes</td>\n    </tr>\n    <tr>\n      <th>45</th>\n      <td>Spain</td>\n      <td>22.0</td>\n      <td>52000.0</td>\n      <td>No</td>\n    </tr>\n    <tr>\n      <th>46</th>\n      <td>France</td>\n      <td>22.0</td>\n      <td>9000.0</td>\n      <td>Yes</td>\n    </tr>\n    <tr>\n      <th>47</th>\n      <td>France</td>\n      <td>22.0</td>\n      <td>85000.0</td>\n      <td>Yes</td>\n    </tr>\n    <tr>\n      <th>48</th>\n      <td>Spain</td>\n      <td>22.0</td>\n      <td>68000.0</td>\n      <td>No</td>\n    </tr>\n  </tbody>\n</table>\n</div>"
     },
     "metadata": {},
     "execution_count": 97
    }
   ],
   "source": [
    "mediandata= mediandata.replace('no','No')\n",
    "mediandata"
   ]
  },
  {
   "cell_type": "code",
   "execution_count": 98,
   "metadata": {},
   "outputs": [
    {
     "output_type": "execute_result",
     "data": {
      "text/plain": [
       "     Age    Salary  Purchased  Country_France  Country_Germany  Country_India  \\\n",
       "0   44.0   72000.0          0               1                0              0   \n",
       "1   27.0   48000.0          1               0                0              0   \n",
       "2   30.0   54000.0          1               0                1              0   \n",
       "3   38.0   61000.0          0               0                0              0   \n",
       "4   40.0   58000.0          1               0                1              0   \n",
       "5   35.0   58000.0          1               1                0              0   \n",
       "6   22.0   52000.0          0               0                0              0   \n",
       "7   48.0   58000.0          1               1                0              0   \n",
       "8   50.0   83000.0          0               0                1              0   \n",
       "9   22.0   67000.0          1               1                0              0   \n",
       "10  40.0   12000.0          0               0                0              1   \n",
       "11  45.0  110000.0          1               0                0              0   \n",
       "12  68.0   58000.0          0               1                0              0   \n",
       "13  65.0  120000.0          0               0                0              1   \n",
       "14  22.0   12000.0          1               0                0              1   \n",
       "15  22.0   58000.0          0               0                0              0   \n",
       "16  22.0   58000.0          1               0                1              0   \n",
       "17  22.0   78000.0          1               0                0              0   \n",
       "18  22.0   83000.0          1               0                1              0   \n",
       "19  22.0   68000.0          0               1                0              0   \n",
       "20  22.0   12000.0          1               0                0              0   \n",
       "21  22.0   11000.0          0               1                0              0   \n",
       "22  22.0  140000.0          0               0                1              0   \n",
       "23  22.0   14000.0          1               1                0              0   \n",
       "24  22.0   58000.0          0               0                0              1   \n",
       "25  22.0   55000.0          1               0                0              1   \n",
       "26  22.0   79000.0          1               0                0              0   \n",
       "27  22.0   88000.0          1               0                1              0   \n",
       "28  22.0   58000.0          0               0                0              0   \n",
       "29  22.0  110000.0          1               0                1              0   \n",
       "30  22.0   13000.0          0               1                0              0   \n",
       "31  22.0  120000.0          1               0                0              0   \n",
       "32  22.0   12000.0          1               1                0              0   \n",
       "33  22.0   58000.0          1               0                1              0   \n",
       "34  22.0   57000.0          1               0                0              1   \n",
       "35  22.0   79000.0          0               0                0              0   \n",
       "36  22.0   58000.0          1               0                1              0   \n",
       "37  22.0   67000.0          1               1                0              0   \n",
       "38  22.0   12000.0          1               0                0              1   \n",
       "39  22.0   13000.0          0               0                0              1   \n",
       "40  22.0  110000.0          1               0                0              0   \n",
       "41  22.0   13000.0          0               0                1              0   \n",
       "42  22.0  120000.0          1               0                0              0   \n",
       "43  22.0   10000.0          0               0                1              0   \n",
       "44  22.0   58000.0          1               1                0              0   \n",
       "45  22.0   52000.0          0               0                0              0   \n",
       "46  22.0    9000.0          1               1                0              0   \n",
       "47  22.0   85000.0          1               1                0              0   \n",
       "48  22.0   68000.0          0               0                0              0   \n",
       "\n",
       "    Country_Spain  \n",
       "0               0  \n",
       "1               1  \n",
       "2               0  \n",
       "3               1  \n",
       "4               0  \n",
       "5               0  \n",
       "6               1  \n",
       "7               0  \n",
       "8               0  \n",
       "9               0  \n",
       "10              0  \n",
       "11              1  \n",
       "12              0  \n",
       "13              0  \n",
       "14              0  \n",
       "15              1  \n",
       "16              0  \n",
       "17              1  \n",
       "18              0  \n",
       "19              0  \n",
       "20              1  \n",
       "21              0  \n",
       "22              0  \n",
       "23              0  \n",
       "24              0  \n",
       "25              0  \n",
       "26              1  \n",
       "27              0  \n",
       "28              1  \n",
       "29              0  \n",
       "30              0  \n",
       "31              1  \n",
       "32              0  \n",
       "33              0  \n",
       "34              0  \n",
       "35              1  \n",
       "36              0  \n",
       "37              0  \n",
       "38              0  \n",
       "39              0  \n",
       "40              1  \n",
       "41              0  \n",
       "42              1  \n",
       "43              0  \n",
       "44              0  \n",
       "45              1  \n",
       "46              0  \n",
       "47              0  \n",
       "48              1  "
      ],
      "text/html": "<div>\n<style scoped>\n    .dataframe tbody tr th:only-of-type {\n        vertical-align: middle;\n    }\n\n    .dataframe tbody tr th {\n        vertical-align: top;\n    }\n\n    .dataframe thead th {\n        text-align: right;\n    }\n</style>\n<table border=\"1\" class=\"dataframe\">\n  <thead>\n    <tr style=\"text-align: right;\">\n      <th></th>\n      <th>Age</th>\n      <th>Salary</th>\n      <th>Purchased</th>\n      <th>Country_France</th>\n      <th>Country_Germany</th>\n      <th>Country_India</th>\n      <th>Country_Spain</th>\n    </tr>\n  </thead>\n  <tbody>\n    <tr>\n      <th>0</th>\n      <td>44.0</td>\n      <td>72000.0</td>\n      <td>0</td>\n      <td>1</td>\n      <td>0</td>\n      <td>0</td>\n      <td>0</td>\n    </tr>\n    <tr>\n      <th>1</th>\n      <td>27.0</td>\n      <td>48000.0</td>\n      <td>1</td>\n      <td>0</td>\n      <td>0</td>\n      <td>0</td>\n      <td>1</td>\n    </tr>\n    <tr>\n      <th>2</th>\n      <td>30.0</td>\n      <td>54000.0</td>\n      <td>1</td>\n      <td>0</td>\n      <td>1</td>\n      <td>0</td>\n      <td>0</td>\n    </tr>\n    <tr>\n      <th>3</th>\n      <td>38.0</td>\n      <td>61000.0</td>\n      <td>0</td>\n      <td>0</td>\n      <td>0</td>\n      <td>0</td>\n      <td>1</td>\n    </tr>\n    <tr>\n      <th>4</th>\n      <td>40.0</td>\n      <td>58000.0</td>\n      <td>1</td>\n      <td>0</td>\n      <td>1</td>\n      <td>0</td>\n      <td>0</td>\n    </tr>\n    <tr>\n      <th>5</th>\n      <td>35.0</td>\n      <td>58000.0</td>\n      <td>1</td>\n      <td>1</td>\n      <td>0</td>\n      <td>0</td>\n      <td>0</td>\n    </tr>\n    <tr>\n      <th>6</th>\n      <td>22.0</td>\n      <td>52000.0</td>\n      <td>0</td>\n      <td>0</td>\n      <td>0</td>\n      <td>0</td>\n      <td>1</td>\n    </tr>\n    <tr>\n      <th>7</th>\n      <td>48.0</td>\n      <td>58000.0</td>\n      <td>1</td>\n      <td>1</td>\n      <td>0</td>\n      <td>0</td>\n      <td>0</td>\n    </tr>\n    <tr>\n      <th>8</th>\n      <td>50.0</td>\n      <td>83000.0</td>\n      <td>0</td>\n      <td>0</td>\n      <td>1</td>\n      <td>0</td>\n      <td>0</td>\n    </tr>\n    <tr>\n      <th>9</th>\n      <td>22.0</td>\n      <td>67000.0</td>\n      <td>1</td>\n      <td>1</td>\n      <td>0</td>\n      <td>0</td>\n      <td>0</td>\n    </tr>\n    <tr>\n      <th>10</th>\n      <td>40.0</td>\n      <td>12000.0</td>\n      <td>0</td>\n      <td>0</td>\n      <td>0</td>\n      <td>1</td>\n      <td>0</td>\n    </tr>\n    <tr>\n      <th>11</th>\n      <td>45.0</td>\n      <td>110000.0</td>\n      <td>1</td>\n      <td>0</td>\n      <td>0</td>\n      <td>0</td>\n      <td>1</td>\n    </tr>\n    <tr>\n      <th>12</th>\n      <td>68.0</td>\n      <td>58000.0</td>\n      <td>0</td>\n      <td>1</td>\n      <td>0</td>\n      <td>0</td>\n      <td>0</td>\n    </tr>\n    <tr>\n      <th>13</th>\n      <td>65.0</td>\n      <td>120000.0</td>\n      <td>0</td>\n      <td>0</td>\n      <td>0</td>\n      <td>1</td>\n      <td>0</td>\n    </tr>\n    <tr>\n      <th>14</th>\n      <td>22.0</td>\n      <td>12000.0</td>\n      <td>1</td>\n      <td>0</td>\n      <td>0</td>\n      <td>1</td>\n      <td>0</td>\n    </tr>\n    <tr>\n      <th>15</th>\n      <td>22.0</td>\n      <td>58000.0</td>\n      <td>0</td>\n      <td>0</td>\n      <td>0</td>\n      <td>0</td>\n      <td>1</td>\n    </tr>\n    <tr>\n      <th>16</th>\n      <td>22.0</td>\n      <td>58000.0</td>\n      <td>1</td>\n      <td>0</td>\n      <td>1</td>\n      <td>0</td>\n      <td>0</td>\n    </tr>\n    <tr>\n      <th>17</th>\n      <td>22.0</td>\n      <td>78000.0</td>\n      <td>1</td>\n      <td>0</td>\n      <td>0</td>\n      <td>0</td>\n      <td>1</td>\n    </tr>\n    <tr>\n      <th>18</th>\n      <td>22.0</td>\n      <td>83000.0</td>\n      <td>1</td>\n      <td>0</td>\n      <td>1</td>\n      <td>0</td>\n      <td>0</td>\n    </tr>\n    <tr>\n      <th>19</th>\n      <td>22.0</td>\n      <td>68000.0</td>\n      <td>0</td>\n      <td>1</td>\n      <td>0</td>\n      <td>0</td>\n      <td>0</td>\n    </tr>\n    <tr>\n      <th>20</th>\n      <td>22.0</td>\n      <td>12000.0</td>\n      <td>1</td>\n      <td>0</td>\n      <td>0</td>\n      <td>0</td>\n      <td>1</td>\n    </tr>\n    <tr>\n      <th>21</th>\n      <td>22.0</td>\n      <td>11000.0</td>\n      <td>0</td>\n      <td>1</td>\n      <td>0</td>\n      <td>0</td>\n      <td>0</td>\n    </tr>\n    <tr>\n      <th>22</th>\n      <td>22.0</td>\n      <td>140000.0</td>\n      <td>0</td>\n      <td>0</td>\n      <td>1</td>\n      <td>0</td>\n      <td>0</td>\n    </tr>\n    <tr>\n      <th>23</th>\n      <td>22.0</td>\n      <td>14000.0</td>\n      <td>1</td>\n      <td>1</td>\n      <td>0</td>\n      <td>0</td>\n      <td>0</td>\n    </tr>\n    <tr>\n      <th>24</th>\n      <td>22.0</td>\n      <td>58000.0</td>\n      <td>0</td>\n      <td>0</td>\n      <td>0</td>\n      <td>1</td>\n      <td>0</td>\n    </tr>\n    <tr>\n      <th>25</th>\n      <td>22.0</td>\n      <td>55000.0</td>\n      <td>1</td>\n      <td>0</td>\n      <td>0</td>\n      <td>1</td>\n      <td>0</td>\n    </tr>\n    <tr>\n      <th>26</th>\n      <td>22.0</td>\n      <td>79000.0</td>\n      <td>1</td>\n      <td>0</td>\n      <td>0</td>\n      <td>0</td>\n      <td>1</td>\n    </tr>\n    <tr>\n      <th>27</th>\n      <td>22.0</td>\n      <td>88000.0</td>\n      <td>1</td>\n      <td>0</td>\n      <td>1</td>\n      <td>0</td>\n      <td>0</td>\n    </tr>\n    <tr>\n      <th>28</th>\n      <td>22.0</td>\n      <td>58000.0</td>\n      <td>0</td>\n      <td>0</td>\n      <td>0</td>\n      <td>0</td>\n      <td>1</td>\n    </tr>\n    <tr>\n      <th>29</th>\n      <td>22.0</td>\n      <td>110000.0</td>\n      <td>1</td>\n      <td>0</td>\n      <td>1</td>\n      <td>0</td>\n      <td>0</td>\n    </tr>\n    <tr>\n      <th>30</th>\n      <td>22.0</td>\n      <td>13000.0</td>\n      <td>0</td>\n      <td>1</td>\n      <td>0</td>\n      <td>0</td>\n      <td>0</td>\n    </tr>\n    <tr>\n      <th>31</th>\n      <td>22.0</td>\n      <td>120000.0</td>\n      <td>1</td>\n      <td>0</td>\n      <td>0</td>\n      <td>0</td>\n      <td>1</td>\n    </tr>\n    <tr>\n      <th>32</th>\n      <td>22.0</td>\n      <td>12000.0</td>\n      <td>1</td>\n      <td>1</td>\n      <td>0</td>\n      <td>0</td>\n      <td>0</td>\n    </tr>\n    <tr>\n      <th>33</th>\n      <td>22.0</td>\n      <td>58000.0</td>\n      <td>1</td>\n      <td>0</td>\n      <td>1</td>\n      <td>0</td>\n      <td>0</td>\n    </tr>\n    <tr>\n      <th>34</th>\n      <td>22.0</td>\n      <td>57000.0</td>\n      <td>1</td>\n      <td>0</td>\n      <td>0</td>\n      <td>1</td>\n      <td>0</td>\n    </tr>\n    <tr>\n      <th>35</th>\n      <td>22.0</td>\n      <td>79000.0</td>\n      <td>0</td>\n      <td>0</td>\n      <td>0</td>\n      <td>0</td>\n      <td>1</td>\n    </tr>\n    <tr>\n      <th>36</th>\n      <td>22.0</td>\n      <td>58000.0</td>\n      <td>1</td>\n      <td>0</td>\n      <td>1</td>\n      <td>0</td>\n      <td>0</td>\n    </tr>\n    <tr>\n      <th>37</th>\n      <td>22.0</td>\n      <td>67000.0</td>\n      <td>1</td>\n      <td>1</td>\n      <td>0</td>\n      <td>0</td>\n      <td>0</td>\n    </tr>\n    <tr>\n      <th>38</th>\n      <td>22.0</td>\n      <td>12000.0</td>\n      <td>1</td>\n      <td>0</td>\n      <td>0</td>\n      <td>1</td>\n      <td>0</td>\n    </tr>\n    <tr>\n      <th>39</th>\n      <td>22.0</td>\n      <td>13000.0</td>\n      <td>0</td>\n      <td>0</td>\n      <td>0</td>\n      <td>1</td>\n      <td>0</td>\n    </tr>\n    <tr>\n      <th>40</th>\n      <td>22.0</td>\n      <td>110000.0</td>\n      <td>1</td>\n      <td>0</td>\n      <td>0</td>\n      <td>0</td>\n      <td>1</td>\n    </tr>\n    <tr>\n      <th>41</th>\n      <td>22.0</td>\n      <td>13000.0</td>\n      <td>0</td>\n      <td>0</td>\n      <td>1</td>\n      <td>0</td>\n      <td>0</td>\n    </tr>\n    <tr>\n      <th>42</th>\n      <td>22.0</td>\n      <td>120000.0</td>\n      <td>1</td>\n      <td>0</td>\n      <td>0</td>\n      <td>0</td>\n      <td>1</td>\n    </tr>\n    <tr>\n      <th>43</th>\n      <td>22.0</td>\n      <td>10000.0</td>\n      <td>0</td>\n      <td>0</td>\n      <td>1</td>\n      <td>0</td>\n      <td>0</td>\n    </tr>\n    <tr>\n      <th>44</th>\n      <td>22.0</td>\n      <td>58000.0</td>\n      <td>1</td>\n      <td>1</td>\n      <td>0</td>\n      <td>0</td>\n      <td>0</td>\n    </tr>\n    <tr>\n      <th>45</th>\n      <td>22.0</td>\n      <td>52000.0</td>\n      <td>0</td>\n      <td>0</td>\n      <td>0</td>\n      <td>0</td>\n      <td>1</td>\n    </tr>\n    <tr>\n      <th>46</th>\n      <td>22.0</td>\n      <td>9000.0</td>\n      <td>1</td>\n      <td>1</td>\n      <td>0</td>\n      <td>0</td>\n      <td>0</td>\n    </tr>\n    <tr>\n      <th>47</th>\n      <td>22.0</td>\n      <td>85000.0</td>\n      <td>1</td>\n      <td>1</td>\n      <td>0</td>\n      <td>0</td>\n      <td>0</td>\n    </tr>\n    <tr>\n      <th>48</th>\n      <td>22.0</td>\n      <td>68000.0</td>\n      <td>0</td>\n      <td>0</td>\n      <td>0</td>\n      <td>0</td>\n      <td>1</td>\n    </tr>\n  </tbody>\n</table>\n</div>"
     },
     "metadata": {},
     "execution_count": 98
    }
   ],
   "source": [
    "from pandas import get_dummies\n",
    "from sklearn import preprocessing\n",
    "mediandata = pd.get_dummies(data = mediandata, columns= ['Country'])\n",
    "label_encoder = preprocessing.LabelEncoder() \n",
    "mediandata['Purchased']= label_encoder.fit_transform(mediandata['Purchased']) \n",
    "  \n",
    "mediandata['Purchased'].unique()\n",
    "mediandata"
   ]
  },
  {
   "cell_type": "code",
   "execution_count": 108,
   "metadata": {},
   "outputs": [],
   "source": [
    "import pandas as pd\n",
    "from sklearn import preprocessing\n",
    "\n",
    "# Normalize 'Age' column\n",
    "x = mediandata[['Age']]\n",
    "min_max_scaler = preprocessing.MinMaxScaler()\n",
    "x_scaled = min_max_scaler.fit_transform(x)\n",
    "mediandata['Age_norm'] = x_scaled\n",
    "\n",
    "# Normalize 'Salary' column\n",
    "x = mediandata[['Salary']].values \n",
    "min_max_scaler = preprocessing.MinMaxScaler()\n",
    "x_scaled = min_max_scaler.fit_transform(x)\n",
    "mediandata['Salary_norm'] = x_scaled"
   ]
  },
  {
   "cell_type": "code",
   "execution_count": 85,
   "metadata": {},
   "outputs": [
    {
     "output_type": "execute_result",
     "data": {
      "text/plain": [
       "    Age   Salary  Purchased  Country_France  Country_Germany  Country_India  \\\n",
       "0  44.0  72000.0          0               1                0              0   \n",
       "1  27.0  48000.0          1               0                0              0   \n",
       "2  30.0  54000.0          1               0                1              0   \n",
       "3  38.0  61000.0          0               0                0              0   \n",
       "4  40.0  58000.0          1               0                1              0   \n",
       "\n",
       "   Country_Spain  Age_norm  Salary_norm  \n",
       "0              0  0.478261     0.480916  \n",
       "1              1  0.108696     0.297710  \n",
       "2              0  0.173913     0.343511  \n",
       "3              1  0.347826     0.396947  \n",
       "4              0  0.391304     0.374046  "
      ],
      "text/html": "<div>\n<style scoped>\n    .dataframe tbody tr th:only-of-type {\n        vertical-align: middle;\n    }\n\n    .dataframe tbody tr th {\n        vertical-align: top;\n    }\n\n    .dataframe thead th {\n        text-align: right;\n    }\n</style>\n<table border=\"1\" class=\"dataframe\">\n  <thead>\n    <tr style=\"text-align: right;\">\n      <th></th>\n      <th>Age</th>\n      <th>Salary</th>\n      <th>Purchased</th>\n      <th>Country_France</th>\n      <th>Country_Germany</th>\n      <th>Country_India</th>\n      <th>Country_Spain</th>\n      <th>Age_norm</th>\n      <th>Salary_norm</th>\n    </tr>\n  </thead>\n  <tbody>\n    <tr>\n      <th>0</th>\n      <td>44.0</td>\n      <td>72000.0</td>\n      <td>0</td>\n      <td>1</td>\n      <td>0</td>\n      <td>0</td>\n      <td>0</td>\n      <td>0.478261</td>\n      <td>0.480916</td>\n    </tr>\n    <tr>\n      <th>1</th>\n      <td>27.0</td>\n      <td>48000.0</td>\n      <td>1</td>\n      <td>0</td>\n      <td>0</td>\n      <td>0</td>\n      <td>1</td>\n      <td>0.108696</td>\n      <td>0.297710</td>\n    </tr>\n    <tr>\n      <th>2</th>\n      <td>30.0</td>\n      <td>54000.0</td>\n      <td>1</td>\n      <td>0</td>\n      <td>1</td>\n      <td>0</td>\n      <td>0</td>\n      <td>0.173913</td>\n      <td>0.343511</td>\n    </tr>\n    <tr>\n      <th>3</th>\n      <td>38.0</td>\n      <td>61000.0</td>\n      <td>0</td>\n      <td>0</td>\n      <td>0</td>\n      <td>0</td>\n      <td>1</td>\n      <td>0.347826</td>\n      <td>0.396947</td>\n    </tr>\n    <tr>\n      <th>4</th>\n      <td>40.0</td>\n      <td>58000.0</td>\n      <td>1</td>\n      <td>0</td>\n      <td>1</td>\n      <td>0</td>\n      <td>0</td>\n      <td>0.391304</td>\n      <td>0.374046</td>\n    </tr>\n  </tbody>\n</table>\n</div>"
     },
     "metadata": {},
     "execution_count": 85
    }
   ],
   "source": [
    "mediandata.head()"
   ]
  }
 ]
}